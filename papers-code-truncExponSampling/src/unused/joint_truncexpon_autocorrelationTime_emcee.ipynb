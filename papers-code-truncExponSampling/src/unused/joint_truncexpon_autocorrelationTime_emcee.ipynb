{
 "cells": [
  {
   "cell_type": "markdown",
   "metadata": {},
   "source": [
    "### Computing autocorrelation time"
   ]
  },
  {
   "cell_type": "code",
   "execution_count": 58,
   "metadata": {},
   "outputs": [],
   "source": [
    "import numpy as np\n",
    "import matplotlib.pyplot as plt\n",
    "from scipy.optimize import curve_fit\n",
    "import importlib\n",
    "import emcee"
   ]
  },
  {
   "cell_type": "code",
   "execution_count": 59,
   "metadata": {},
   "outputs": [],
   "source": [
    "# Set parameters\n",
    "a,b,c = 0.1,1.5,-2.0"
   ]
  },
  {
   "cell_type": "code",
   "execution_count": 60,
   "metadata": {},
   "outputs": [],
   "source": [
    "# Load correlated Monte Carlo data\n",
    "data_correlated_rejection = np.loadtxt(\"../data/%.6f_%.6f_%.6f_jointTruncexpon_rejection.dat\"%(a,b,c))\n",
    "data_correlated_direct = np.loadtxt(\"../data/%.6f_%.6f_%.6f_jointTruncexpon_direct.dat\"%(a,b,c))\n",
    "\n",
    "MC_steps = np.arange(data_correlated_rejection.shape[0])"
   ]
  },
  {
   "cell_type": "code",
   "execution_count": 61,
   "metadata": {},
   "outputs": [
    {
     "name": "stdout",
     "output_type": "stream",
     "text": [
      "There are a total of 1000000 samples in the full data set.\n"
     ]
    }
   ],
   "source": [
    "# Get total number of samples in data\n",
    "num_samples_data = data_correlated_rejection.shape[0]\n",
    "print(\"There are a total of %d samples in the full data set.\"%num_samples_data)"
   ]
  },
  {
   "cell_type": "code",
   "execution_count": 62,
   "metadata": {},
   "outputs": [
    {
     "name": "stdout",
     "output_type": "stream",
     "text": [
      "The 200000 first samples will be thrown away for equilibration.\n"
     ]
    }
   ],
   "source": [
    "# Set start index (i.e, how many samples will be thrownaway due to equilibration)\n",
    "equil_percent = 0.2\n",
    "start = int(num_samples_data*equil_percent)\n",
    "\n",
    "print(\"The %d first samples will be thrown away for equilibration.\"%start)"
   ]
  },
  {
   "cell_type": "code",
   "execution_count": 63,
   "metadata": {},
   "outputs": [],
   "source": [
    "x1_simple_rejection = data_correlated_rejection[start:,0]\n",
    "x1_simple_direct = data_correlated_direct[start:,0]"
   ]
  },
  {
   "cell_type": "code",
   "execution_count": 64,
   "metadata": {},
   "outputs": [],
   "source": [
    "x2_simple_rejection = data_correlated_rejection[start:,1]\n",
    "x2_simple_direct = data_correlated_direct[start:,1]"
   ]
  },
  {
   "cell_type": "markdown",
   "metadata": {},
   "source": [
    "#### As part of our computation of the integrated autocorrelation time, we will need to compute the normalized autocorrelation function:\n",
    "\n",
    "$$ \\rho(t) = \\frac{c(t)}{c(0)} = \\frac{\\frac{1}{N-t}\\sum_{i=1}^{N-t}{X_{i}X_{i+t}-{\\left\\langle{X}\\right\\rangle^2}}}{\\left\\langle{X^2}\\right\\rangle-{\\left\\langle{X}\\right\\rangle^2}} \\sim e^{-\\frac{t}{\\tau_\\mathrm{exp}}} $$"
   ]
  },
  {
   "cell_type": "code",
   "execution_count": 65,
   "metadata": {},
   "outputs": [],
   "source": [
    "# Fit autocorrelation to exponential form for all time separations\n",
    "τ1_rejection = emcee.autocorr.integrated_time(x1_simple_rejection)\n",
    "τ1_direct = emcee.autocorr.integrated_time(x1_simple_direct)"
   ]
  },
  {
   "cell_type": "code",
   "execution_count": 66,
   "metadata": {},
   "outputs": [],
   "source": [
    "# Fit autocorrelation to exponential form for all time separations\n",
    "τ2_rejection = emcee.autocorr.integrated_time(x2_simple_rejection)\n",
    "τ2_direct = emcee.autocorr.integrated_time(x2_simple_direct)"
   ]
  },
  {
   "cell_type": "markdown",
   "metadata": {},
   "source": [
    "#### The integrated autocorrelation is obtained by summing the autocorrelation function over all possible time separations:\n",
    "\n",
    "$$ \\tau_\\mathrm{int}=\\sum_t \\frac{C(t)}{C(0)}$$"
   ]
  },
  {
   "cell_type": "markdown",
   "metadata": {},
   "source": [
    "#### We can obtain the autocorrelation time from a fitting of: $$Ae^{-t/\\tau_{exp}}$$"
   ]
  },
  {
   "cell_type": "code",
   "execution_count": 67,
   "metadata": {},
   "outputs": [
    {
     "name": "stdout",
     "output_type": "stream",
     "text": [
      "τ1_rejection: [1.80982487]\n",
      "τ1_direct: [1.0079503]\n"
     ]
    }
   ],
   "source": [
    "print(\"τ1_rejection: {}\".format(τ1_rejection)) # from fitting\n",
    "print(\"τ1_direct: {}\".format(τ1_direct)) # from fitting\n",
    "\n",
    "# print(\"τ_auto_int: {}\".format(autocorrelation_time_int)) # from using estimate\n",
    "# print(\"τ_exact: {}\".format(autocorrelation_time))"
   ]
  },
  {
   "cell_type": "code",
   "execution_count": 68,
   "metadata": {},
   "outputs": [
    {
     "name": "stdout",
     "output_type": "stream",
     "text": [
      "τ2_rejection: [1.43305939]\n",
      "τ2_direct: [1.00675129]\n"
     ]
    }
   ],
   "source": [
    "print(\"τ2_rejection: {}\".format(τ2_rejection)) # from fitting\n",
    "print(\"τ2_direct: {}\".format(τ2_direct)) # from fitting\n",
    "\n",
    "# print(\"τ_auto_int: {}\".format(autocorrelation_time_int)) # from using estimate\n",
    "# print(\"τ_exact: {}\".format(autocorrelation_time))"
   ]
  },
  {
   "cell_type": "code",
   "execution_count": 69,
   "metadata": {},
   "outputs": [
    {
     "data": {
      "text/plain": [
       "array([1.91729974])"
      ]
     },
     "execution_count": 69,
     "metadata": {},
     "output_type": "execute_result"
    }
   ],
   "source": [
    "τ_rejection/τ_direct"
   ]
  },
  {
   "cell_type": "code",
   "execution_count": null,
   "metadata": {},
   "outputs": [],
   "source": []
  },
  {
   "cell_type": "code",
   "execution_count": null,
   "metadata": {},
   "outputs": [],
   "source": []
  },
  {
   "cell_type": "code",
   "execution_count": null,
   "metadata": {},
   "outputs": [],
   "source": []
  },
  {
   "cell_type": "code",
   "execution_count": null,
   "metadata": {},
   "outputs": [],
   "source": []
  },
  {
   "cell_type": "code",
   "execution_count": null,
   "metadata": {},
   "outputs": [],
   "source": []
  }
 ],
 "metadata": {
  "kernelspec": {
   "display_name": "Python 3 (ipykernel)",
   "language": "python",
   "name": "python3"
  },
  "language_info": {
   "codemirror_mode": {
    "name": "ipython",
    "version": 3
   },
   "file_extension": ".py",
   "mimetype": "text/x-python",
   "name": "python",
   "nbconvert_exporter": "python",
   "pygments_lexer": "ipython3",
   "version": "3.8.10"
  }
 },
 "nbformat": 4,
 "nbformat_minor": 4
}
