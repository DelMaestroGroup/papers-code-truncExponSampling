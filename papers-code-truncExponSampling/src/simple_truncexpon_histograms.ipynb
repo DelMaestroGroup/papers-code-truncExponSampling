{
 "cells": [
  {
   "cell_type": "code",
   "execution_count": 1,
   "metadata": {},
   "outputs": [],
   "source": [
    "import numpy as np\n",
    "import matplotlib.pyplot as plt\n",
    "import scipy.integrate as integrate\n",
    "from scipy import stats\n",
    "from functools import partial"
   ]
  },
  {
   "cell_type": "code",
   "execution_count": 2,
   "metadata": {},
   "outputs": [],
   "source": [
    "# Set parameters\n",
    "a,b,c = 0.1,1.5,-2.0"
   ]
  },
  {
   "cell_type": "code",
   "execution_count": 3,
   "metadata": {},
   "outputs": [],
   "source": [
    "# Load all data\n",
    "τ2_rejection_full_data = np.loadtxt(\"../data/%.6f_%.6f_%.6f_simpleTruncexpon_rejection.dat\"%(a,b,c))\n",
    "τ2_direct_full_data = np.loadtxt(\"../data/%.6f_%.6f_%.6f_simpleTruncexpon_direct.dat\"%(a,b,c))"
   ]
  },
  {
   "cell_type": "code",
   "execution_count": 4,
   "metadata": {},
   "outputs": [
    {
     "name": "stdout",
     "output_type": "stream",
     "text": [
      "There are a total of 1000000 samples in the full data set.\n"
     ]
    }
   ],
   "source": [
    "# Get total number of samples in data\n",
    "num_samples_data = τ2_rejection_full_data.shape[0]\n",
    "print(\"There are a total of %d samples in the full data set.\"%num_samples_data)"
   ]
  },
  {
   "cell_type": "code",
   "execution_count": 5,
   "metadata": {},
   "outputs": [
    {
     "name": "stdout",
     "output_type": "stream",
     "text": [
      "The 200000 first samples will be thrown away for equilibration.\n"
     ]
    }
   ],
   "source": [
    "# Set start index (i.e, how many samples will be thrownaway due to equilibration)\n",
    "equil_percent = 0.2\n",
    "start = int(num_samples_data*equil_percent)\n",
    "\n",
    "print(\"The %d first samples will be thrown away for equilibration.\"%start)"
   ]
  },
  {
   "cell_type": "code",
   "execution_count": 6,
   "metadata": {},
   "outputs": [
    {
     "name": "stdout",
     "output_type": "stream",
     "text": [
      "There are a total of 800000 samples left in the data set after equilibration.\n"
     ]
    }
   ],
   "source": [
    "# Set number of desired samples to use\n",
    "num_samples = num_samples_data-start\n",
    "\n",
    "print(\"There are a total of %d samples left in the data set after equilibration.\"%(num_samples))"
   ]
  },
  {
   "cell_type": "code",
   "execution_count": 7,
   "metadata": {},
   "outputs": [],
   "source": [
    "τ2_rejection = τ2_rejection_full_data[start:]\n",
    "τ2_direct = τ2_direct_full_data[start:]"
   ]
  },
  {
   "cell_type": "code",
   "execution_count": 8,
   "metadata": {},
   "outputs": [],
   "source": [
    "def P(τ,a,b,c):\n",
    "    Z = (np.exp(c*(b-a))-1)/c\n",
    "    return (1/Z)*np.exp(c*(τ-a));\n",
    "\n",
    "def cdf(τ,a,b,c):\n",
    "    Z = (np.exp(c*(b-a))-1)/c\n",
    "    return (np.exp(c*(τ-a))-1)/(c*Z)\n",
    "\n",
    "def P_times_tau(τ,a,b,c):\n",
    "    Z = (np.exp(c*(b-a))-1)/c\n",
    "    return τ*(1/Z)*np.exp(c*(τ-a));"
   ]
  },
  {
   "cell_type": "code",
   "execution_count": 9,
   "metadata": {},
   "outputs": [],
   "source": [
    "cdf_fixed = partial(cdf,a=a,b=b,c=c)"
   ]
  },
  {
   "cell_type": "code",
   "execution_count": 10,
   "metadata": {},
   "outputs": [],
   "source": [
    "τ_fit = np.linspace(a,b,1000)"
   ]
  },
  {
   "cell_type": "markdown",
   "metadata": {},
   "source": [
    "### Compute average time from exact and sampled distributions"
   ]
  },
  {
   "cell_type": "code",
   "execution_count": 11,
   "metadata": {},
   "outputs": [
    {
     "name": "stdout",
     "output_type": "stream",
     "text": [
      "Average time (exact):  (0.5093537054780725, 5.654962114998968e-15)\n"
     ]
    }
   ],
   "source": [
    "# Compute \"exact\" average of time\n",
    "τ_mean_exact = integrate.quad(P_times_tau,a,b,args=(a,b,c))\n",
    "print(\"Average time (exact): \",τ_mean_exact)"
   ]
  },
  {
   "cell_type": "code",
   "execution_count": 12,
   "metadata": {},
   "outputs": [
    {
     "name": "stdout",
     "output_type": "stream",
     "text": [
      "Average sampled time with rejection:  0.5082187425969835\n"
     ]
    }
   ],
   "source": [
    "# Compute average time from histogram\n",
    "τ2_counts, τ2_edges = np.histogram(τ2_rejection,bins=1000)\n",
    "τ2_probs = np.divide(τ2_counts,np.sum(τ2_counts))\n",
    "\n",
    "τ_mean_rejection = np.sum(τ2_probs*τ2_edges[:-1])\n",
    "print(\"Average sampled time with rejection: \",τ_mean_rejection)"
   ]
  },
  {
   "cell_type": "code",
   "execution_count": 13,
   "metadata": {},
   "outputs": [
    {
     "name": "stdout",
     "output_type": "stream",
     "text": [
      "Average sampled time with direct:  0.5079243385958052\n"
     ]
    }
   ],
   "source": [
    "# Compute average time from histogram\n",
    "τ2_counts, τ2_edges = np.histogram(τ2_direct,bins=1000)\n",
    "τ2_probs = np.divide(τ2_counts,np.sum(τ2_counts))\n",
    "\n",
    "τ_mean_direct = np.sum(τ2_probs*τ2_edges[:-1])\n",
    "print(\"Average sampled time with direct: \",np.sum(τ2_probs*τ2_edges[:-1]))"
   ]
  },
  {
   "cell_type": "code",
   "execution_count": 14,
   "metadata": {},
   "outputs": [
    {
     "name": "stdout",
     "output_type": "stream",
     "text": [
      "Rejection Error: 0.002228\n",
      "Direct Error: 0.002806\n"
     ]
    }
   ],
   "source": [
    "rejection_error = np.abs((τ_mean_exact - τ_mean_rejection) / τ_mean_exact)[0]\n",
    "direct_error = np.abs((τ_mean_exact - τ_mean_direct) / τ_mean_exact)[0]\n",
    "\n",
    "print(\"Rejection Error: %.6f\"%(rejection_error))\n",
    "print(\"Direct Error: %.6f\"%(direct_error))"
   ]
  },
  {
   "cell_type": "markdown",
   "metadata": {},
   "source": [
    "### Rejection vs Direct sampling $\\tau$ from simple exponential distribution"
   ]
  },
  {
   "cell_type": "code",
   "execution_count": 15,
   "metadata": {},
   "outputs": [],
   "source": [
    "colors = ['salmon','dodgerblue','mediumseagreen','darkorange','dimgrey']\n",
    "colors = ['#FFA0A0','#1e90ff','#3cb371','darkorange','dimgrey']\n",
    "colors_light = ['#FFEDED','#6BDDFF','#89FFBE','navajowhite','lightgrey']"
   ]
  },
  {
   "cell_type": "code",
   "execution_count": 17,
   "metadata": {},
   "outputs": [
    {
     "data": {
      "image/png": "[encoded data removed]",
      "text/plain": [
       "<Figure size 1000x450 with 2 Axes>"
      ]
     },
     "metadata": {},
     "output_type": "display_data"
    }
   ],
   "source": [
    "# with plt.style.context('../IOP_large.mplstyle'):\n",
    "\n",
    "fig,ax = plt.subplots(1,2,figsize=(10,4.5), dpi=100,sharey=True,tight_layout=True);\n",
    "plt.subplots_adjust(wspace=0.02);\n",
    "\n",
    "num_bins = 100\n",
    "\n",
    "# Plot\n",
    "kwargs = dict(hist_kws={'alpha':.6}, kde_kws={'linewidth':2})\n",
    "\n",
    "ax[0].plot(τ_fit,P(τ_fit,a,b,c),color=colors[3],alpha=1.0)\n",
    "ax[0].hist(τ2_rejection, density=True, bins=num_bins,label=r'$\\rm{Rejection}$',color=colors[3],alpha=0.5);  # density=False would make counts\n",
    "ax[0].set_xlabel(r'$x$');\n",
    "ax[0].set_ylabel(r'$P(x)$');\n",
    "ax[0].tick_params(direction='in')\n",
    "ax[0].annotate(r\"$\\rm{Rejection}$\",(0.55,0.70),\n",
    "                xycoords='axes fraction',fontsize=12)\n",
    "ax[0].annotate(r\"$\\rm{a}$,$\\rm{b}$,$\\rm{c} = %.1f$,$%.1f$,$%.1f$\"%(a,b,c),(0.55,0.60),\n",
    "                xycoords='axes fraction',fontsize=12)\n",
    "ax[0].annotate(r\"$\\rm{Samples: %d}$\"%num_samples,(0.55,0.50),\n",
    "                xycoords='axes fraction',fontsize=12)\n",
    "ax[0].annotate(r\"$\\rm{Bins: %d}$\"%num_bins,(0.55,0.40),\n",
    "                xycoords='axes fraction',fontsize=12)\n",
    "\n",
    "ax[1].plot(τ_fit,P(τ_fit,a,b,c),color=colors[3],alpha=1.0)\n",
    "ax[1].hist(τ2_direct, density=True, bins=num_bins,label=r'$\\rm{Direct}$',color=colors[3],alpha=0.5);  # density=False would make counts\n",
    "ax[1].set_xlabel(r'$x$');\n",
    "# ax[1].legend(frameon=False);\n",
    "ax[1].tick_params(direction='in')\n",
    "ax[1].annotate(r\"$\\rm{Direct}$\",(0.55,0.70),\n",
    "                xycoords='axes fraction',fontsize=12);\n",
    "ax[1].annotate(r\"$\\rm{a}$,$\\rm{b}$,$\\rm{c} = %.1f$,$%.1f$,$%.1f$\"%(a,b,c),(0.55,0.60),\n",
    "                xycoords='axes fraction',fontsize=12)\n",
    "ax[1].annotate(r\"$\\rm{Samples: %d}$\"%num_samples,(0.55,0.50),\n",
    "                xycoords='axes fraction',fontsize=12)\n",
    "ax[1].annotate(r\"$\\rm{Bins: %d}$\"%num_bins,(0.55,0.40),\n",
    "                xycoords='axes fraction',fontsize=12)\n",
    "\n",
    "# Adjust vertical space between subplots\n",
    "# fig.subplots_adjust(hspace=0.023)\n",
    "# fig.subplots_adjust(hspace=0.0003)\n",
    "\n",
    "plt.savefig(\"../figures/simple_truncexpon_histogram_benchmark.pdf\",dpi=300)\n",
    "\n",
    "plt.show()"
   ]
  },
  {
   "cell_type": "code",
   "execution_count": 18,
   "metadata": {},
   "outputs": [
    {
     "data": {
      "text/plain": [
       "(0.9999999999999998, 1.1102230246251562e-14)"
      ]
     },
     "execution_count": 18,
     "metadata": {},
     "output_type": "execute_result"
    }
   ],
   "source": [
    "# Check normalization\n",
    "integrate.quad(P,a,b,args=(a,b,c))"
   ]
  },
  {
   "cell_type": "code",
   "execution_count": 19,
   "metadata": {},
   "outputs": [],
   "source": [
    "# Compute kstest as a function of sample number\n",
    "num_samples_rejection = 100000\n",
    "num_samples_direct = 100000"
   ]
  },
  {
   "cell_type": "code",
   "execution_count": 20,
   "metadata": {},
   "outputs": [],
   "source": [
    "pvalues_rejection = np.zeros(num_samples_rejection)\n",
    "pvalues_direct = np.zeros(num_samples_direct)"
   ]
  },
  {
   "cell_type": "code",
   "execution_count": 21,
   "metadata": {},
   "outputs": [],
   "source": [
    "ksvalues_rejection = np.zeros(num_samples_rejection)\n",
    "ksvalues_direct = np.zeros(num_samples_direct)"
   ]
  },
  {
   "cell_type": "code",
   "execution_count": 22,
   "metadata": {},
   "outputs": [
    {
     "name": "stdout",
     "output_type": "stream",
     "text": [
      "0/100000\n",
      "10000/100000\n",
      "20000/100000\n",
      "30000/100000\n",
      "40000/100000\n",
      "50000/100000\n",
      "60000/100000\n",
      "70000/100000\n",
      "80000/100000\n",
      "90000/100000\n",
      "CPU times: user 12min 15s, sys: 42.6 ms, total: 12min 15s\n",
      "Wall time: 12min 16s\n"
     ]
    }
   ],
   "source": [
    "%%time\n",
    "for i in range(num_samples_rejection):\n",
    "    if i%10000==0: print(\"%d/%d\"%(i,num_samples_rejection))\n",
    "    \n",
    "    ksvalues_rejection[i],pvalues_rejection[i] = stats.kstest(τ2_rejection[:i+1],cdf_fixed)\n",
    "\n",
    "    ksvalues_direct[i],pvalues_direct[i] = stats.kstest(τ2_direct[:i+1],cdf_fixed)\n",
    "    "
   ]
  },
  {
   "cell_type": "code",
   "execution_count": 24,
   "metadata": {},
   "outputs": [
    {
     "data": {
      "text/plain": [
       "KstestResult(statistic=0.39260114216210185, pvalue=2.1164736531609455e-14)"
      ]
     },
     "execution_count": 24,
     "metadata": {},
     "output_type": "execute_result"
    }
   ],
   "source": [
    "stats.kstest(τ2_rejection[:100],cdf_fixed)"
   ]
  },
  {
   "cell_type": "code",
   "execution_count": 28,
   "metadata": {},
   "outputs": [],
   "source": [
    "# Write sample number, KS-statistic and p values to file\n",
    "filename_rejection = \"../processed_data/%.6f_%.6f_%.6f_simpleTruncexpon_rejection_ksTest.dat\"%(a,b,c)\n",
    "file_rejection = open(filename_rejection,\"w\")\n",
    "header = \"# ks-value      p-value \\n\"\n",
    "file_rejection.write(header)\n",
    "for i,ks in enumerate(ksvalues_rejection):\n",
    "    file_rejection.write(\"%.12f %.12f \\n\"%(ksvalues_rejection[i],pvalues_rejection[i]))\n",
    "\n",
    "filename_direct = \"../processed_data/%.6f_%.6f_%.6f_simpleTruncexpon_direct_ksTest.dat\"%(a,b,c)\n",
    "file_direct = open(filename_direct,\"w\")\n",
    "header = \"# ks-value      p-value \\n\"\n",
    "file_direct.write(header)\n",
    "for i,ks in enumerate(ksvalues_direct):\n",
    "    file_direct.write(\"%.12f %.12f \\n\"%(ksvalues_direct[i],pvalues_direct[i]))\n",
    "    \n",
    "file_rejection.close()\n",
    "file_direct.close()"
   ]
  },
  {
   "cell_type": "code",
   "execution_count": 33,
   "metadata": {},
   "outputs": [],
   "source": [
    "ksvalues_rejection = np.loadtxt(\"../processed_data/%.6f_%.6f_%.6f_simpleTruncexpon_rejection_ksTest.dat\"%(a,b,c))[:,0]\n",
    "ksvalues_direct = np.loadtxt(\"../processed_data/%.6f_%.6f_%.6f_simpleTruncexpon_direct_ksTest.dat\"%(a,b,c))[:,0] "
   ]
  },
  {
   "cell_type": "code",
   "execution_count": 36,
   "metadata": {},
   "outputs": [
    {
     "data": {
      "image/png": "[encoded data removed]",
      "text/plain": [
       "<Figure size 640x480 with 1 Axes>"
      ]
     },
     "metadata": {},
     "output_type": "display_data"
    }
   ],
   "source": [
    "# with plt.style.context('../IOP_large.mplstyle2'):\n",
    "#     fig,ax = plt.subplots(2,1,figsize=(4.5,4.5), dpi=150,sharey=False,sharex=False,tight_layout=False);\n",
    "fig,ax = plt.subplots()\n",
    "#     plt.subplots_adjust(wspace=0.02);\n",
    "#     plt.subplots_adjust(hspace=0.02);\n",
    "\n",
    "# ax.set_xscale(\"log\")\n",
    "ax.set_yscale(\"log\")\n",
    "\n",
    "ax.plot(range(num_samples_rejection),ksvalues_rejection,label='Rejection')\n",
    "ax.plot(range(num_samples_direct),ksvalues_direct,label='Direct')\n",
    "ax.axhline(0.0,color=\"#aaaaaa\",zorder=-10)\n",
    "ax.set_ylabel(\"KS-distance\")\n",
    "ax.tick_params(direction='in',which='both')\n",
    "ax.set_xlim(-2000,100000)\n",
    "ax.set_xlabel(\"number of samples\")\n",
    "\n",
    "ax.annotate(r\"$\\rm{a}$,$\\rm{b}$,$\\rm{c} = %.1f$,$%.1f$,$%.1f$\"%(a,b,c),(0.55,0.60),\n",
    "                xycoords='axes fraction',fontsize=12)\n",
    "\n",
    "#     ax[1].plot(range(num_samples_rejection),pvalues_rejection,label='Rejection')\n",
    "#     ax[1].plot(range(num_samples_direct),pvalues_direct,label='Direct')\n",
    "#     ax[1].axhline(1.0,color=\"#aaaaaa\",zorder=-10)\n",
    "#     ax[1].set_ylabel(\"p-value\")\n",
    "#     ax[1].tick_params(direction='in')\n",
    "\n",
    "ax.legend(frameon=False,fontsize=8)\n",
    "\n",
    "plt.savefig(\"../figures/%.6f_%.6f_%.6f_simpleTruncexpon_ksTest.pdf\"%(a,b,c),dpi=300)"
   ]
  },
  {
   "cell_type": "code",
   "execution_count": null,
   "metadata": {},
   "outputs": [],
   "source": []
  },
  {
   "cell_type": "code",
   "execution_count": null,
   "metadata": {},
   "outputs": [],
   "source": []
  },
  {
   "cell_type": "code",
   "execution_count": null,
   "metadata": {},
   "outputs": [],
   "source": []
  },
  {
   "cell_type": "code",
   "execution_count": null,
   "metadata": {},
   "outputs": [],
   "source": []
  }
 ],
 "metadata": {
  "kernelspec": {
   "display_name": "Python 3 (ipykernel)",
   "language": "python",
   "name": "python3"
  },
  "language_info": {
   "codemirror_mode": {
    "name": "ipython",
    "version": 3
   },
   "file_extension": ".py",
   "mimetype": "text/x-python",
   "name": "python",
   "nbconvert_exporter": "python",
   "pygments_lexer": "ipython3",
   "version": "3.8.10"
  }
 },
 "nbformat": 4,
 "nbformat_minor": 4
}
