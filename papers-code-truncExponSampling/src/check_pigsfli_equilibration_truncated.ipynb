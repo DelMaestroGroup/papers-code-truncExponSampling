{
 "cells": [
  {
   "cell_type": "code",
   "execution_count": 160,
   "metadata": {},
   "outputs": [],
   "source": [
    "import numpy as np\n",
    "import matplotlib.pyplot as plt"
   ]
  },
  {
   "cell_type": "code",
   "execution_count": 161,
   "metadata": {},
   "outputs": [],
   "source": [
    "import sys\n",
    "sys.path.append('../')"
   ]
  },
  {
   "cell_type": "markdown",
   "metadata": {},
   "source": [
    "### Check equilibration of Monte Carlo samples"
   ]
  },
  {
   "cell_type": "code",
   "execution_count": 162,
   "metadata": {},
   "outputs": [],
   "source": [
    "throwaway = 0"
   ]
  },
  {
   "cell_type": "code",
   "execution_count": 163,
   "metadata": {},
   "outputs": [],
   "source": [
    "L = 64\n",
    "N = L\n",
    "l = L/2\n",
    "U = 3.3\n",
    "t = 1.0\n",
    "beta = L/2\n",
    "num_replicas = 1\n",
    "estimator = \"energies\"\n",
    "Uot = U/t"
   ]
  },
  {
   "cell_type": "code",
   "execution_count": 164,
   "metadata": {},
   "outputs": [],
   "source": [
    "seed = 0"
   ]
  },
  {
   "cell_type": "code",
   "execution_count": 165,
   "metadata": {},
   "outputs": [],
   "source": [
    "estimator=\"K\"\n",
    "data_correlated_K = np.loadtxt(\"/home/ecasiano/Desktop/papers-code-truncExponSampling/data_truncated/1D_%d_%d_%d_%.6f_%.6f_%.6f_%d_%s_%d_square.dat\"%(L,N,l,U,t,beta,num_replicas,estimator,seed))\n",
    "estimator=\"V\"\n",
    "data_correlated_V = np.loadtxt(\"/home/ecasiano/Desktop/papers-code-truncExponSampling/data_truncated/1D_%d_%d_%d_%.6f_%.6f_%.6f_%d_%s_%d_square.dat\"%(L,N,l,U,t,beta,num_replicas,estimator,seed))\n"
   ]
  },
  {
   "cell_type": "code",
   "execution_count": 166,
   "metadata": {},
   "outputs": [],
   "source": [
    "num_samples_MC = data_correlated_K.shape[0]"
   ]
  },
  {
   "cell_type": "code",
   "execution_count": 167,
   "metadata": {},
   "outputs": [
    {
     "data": {
      "image/png": "[encoded data removed]",
      "text/plain": [
       "<Figure size 432x288 with 2 Axes>"
      ]
     },
     "metadata": {
      "needs_background": "light"
     },
     "output_type": "display_data"
    }
   ],
   "source": [
    "fig,ax = plt.subplots(nrows=1,ncols=2)\n",
    "ax[0].plot(np.arange(num_samples_MC),data_correlated_K,color=\"tab:blue\",alpha=1.0,label=\"kinetic\")\n",
    "ax[0].set_ylabel(r\"\")\n",
    "ax[0].set_xlabel(r\"Sample Number\")\n",
    "ax[0].legend(frameon=False)\n",
    "\n",
    "ax[1].plot(np.arange(num_samples_MC),data_correlated_V,color=\"tab:orange\",alpha=1.0,label=\"potential\")\n",
    "ax[1].set_ylabel(r\"\")\n",
    "ax[1].set_xlabel(r\"Sample Number\")\n",
    "ax[1].legend(frameon=False)\n",
    "\n",
    "plt.tick_params(direction=\"in\")"
   ]
  },
  {
   "cell_type": "code",
   "execution_count": 159,
   "metadata": {},
   "outputs": [],
   "source": [
    "# Exact energies from ED (for N=4  particles)\n",
    "K_exact = -7.032152613680843\n",
    "V_exact = 2.548976013564859"
   ]
  },
  {
   "cell_type": "code",
   "execution_count": 155,
   "metadata": {},
   "outputs": [],
   "source": [
    "K_mean = np.mean(data_correlated_K)/N \n",
    "V_mean = np.mean(data_correlated_V)/N"
   ]
  },
  {
   "cell_type": "code",
   "execution_count": 156,
   "metadata": {},
   "outputs": [
    {
     "name": "stdout",
     "output_type": "stream",
     "text": [
      "  Kinetic energy (MC): -1.7211\n",
      "Potential energy (MC): 0.6825\n"
     ]
    }
   ],
   "source": [
    "print(\"  Kinetic energy (MC): %.4f\"%K_mean)\n",
    "print(\"Potential energy (MC): %.4f\"%V_mean)"
   ]
  },
  {
   "cell_type": "code",
   "execution_count": 157,
   "metadata": {},
   "outputs": [],
   "source": [
    "# Compute relative error between MC and ED results\n",
    "K_err = np.abs((K_exact-K_mean)/K_exact)\n",
    "V_err = np.abs((V_exact-V_mean)/V_exact)"
   ]
  },
  {
   "cell_type": "code",
   "execution_count": 158,
   "metadata": {},
   "outputs": [
    {
     "name": "stdout",
     "output_type": "stream",
     "text": [
      "  Kinetic energy relative error: 14.6636\n",
      "Potential energy relative error: 16.1358\n"
     ]
    }
   ],
   "source": [
    "print(\"  Kinetic energy relative error: %.4f\"%K_err)\n",
    "print(\"Potential energy relative error: %.4f\"%V_err)"
   ]
  },
  {
   "cell_type": "code",
   "execution_count": null,
   "metadata": {},
   "outputs": [],
   "source": []
  },
  {
   "cell_type": "code",
   "execution_count": null,
   "metadata": {},
   "outputs": [],
   "source": []
  },
  {
   "cell_type": "code",
   "execution_count": null,
   "metadata": {},
   "outputs": [],
   "source": []
  },
  {
   "cell_type": "code",
   "execution_count": null,
   "metadata": {},
   "outputs": [],
   "source": []
  }
 ],
 "metadata": {
  "kernelspec": {
   "display_name": "Python 3 (ipykernel)",
   "language": "python",
   "name": "python3"
  },
  "language_info": {
   "codemirror_mode": {
    "name": "ipython",
    "version": 3
   },
   "file_extension": ".py",
   "mimetype": "text/x-python",
   "name": "python",
   "nbconvert_exporter": "python",
   "pygments_lexer": "ipython3",
   "version": "3.8.10"
  }
 },
 "nbformat": 4,
 "nbformat_minor": 4
}
