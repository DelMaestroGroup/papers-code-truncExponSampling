{
 "cells": [
  {
   "cell_type": "markdown",
   "id": "9a783e4e-4cf7-4ced-8e0e-f88ea6223230",
   "metadata": {},
   "source": [
    "### Convergence of RVS's to exact value"
   ]
  },
  {
   "cell_type": "code",
   "execution_count": 13,
   "id": "1ae34798-22ba-4276-b31b-e310a3e6ecf7",
   "metadata": {},
   "outputs": [],
   "source": [
    "import numpy as np\n",
    "import matplotlib.pyplot as plt\n",
    "import scipy.integrate"
   ]
  },
  {
   "cell_type": "code",
   "execution_count": 14,
   "id": "3bd09f6c-49ed-48e7-a6c4-bce5a999a0e7",
   "metadata": {},
   "outputs": [],
   "source": [
    "# Set parameters\n",
    "a,b,c = 0.1,1.5,2.0"
   ]
  },
  {
   "cell_type": "code",
   "execution_count": 15,
   "id": "21f90294-de0e-4686-8a92-198028ef20f0",
   "metadata": {},
   "outputs": [],
   "source": [
    "# Compute exact value of τ1 and τ2 for the chosen parameters"
   ]
  },
  {
   "cell_type": "code",
   "execution_count": 16,
   "id": "b7f65f4a-74be-4a1d-8dc3-1e2663a5d352",
   "metadata": {},
   "outputs": [],
   "source": [
    "def P(τ1,τ2,a,b,c):\n",
    "    Z = (1/c**2)*(np.exp(-c*(b-a))-a*c+b*c-1)\n",
    "    if (τ2<τ1): \n",
    "        return 0\n",
    "    else:\n",
    "        return np.exp(-c*(τ2-τ1))/Z\n",
    "    \n",
    "def x1_ave(a,b,c): # From Mathematica\n",
    "    Z = (1/c**2)*(np.exp(-c*(b-a))-a*c+b*c-1)\n",
    "    return (2 - 2*b*c - a**2*c**2 + b**2*c**2 + 2*(-1 + a*c)*np.exp((a - b)*c))/(2*c**3*Z)\n",
    "\n",
    "def x2_ave(a,b,c):\n",
    "    Z = (1/c**2)*(np.exp(-c*(b-a))-a*c+b*c-1)\n",
    "    return (-a + b - (a**2*c)/2 + (b**2*c)/2 + ((1 + b*c)*(-1 + np.exp((a - b)*c)))/c)/(c**2*Z)\n",
    "\n",
    "def x1x2_ave(a,b,c):\n",
    "    Z = (1/c**2)*(np.exp(-c*(b-a))-a*c+b*c-1)\n",
    "    return (-b**2 + 1/c**2 - 1/6*a**2*(3 + 2*a*c) + 1/6*b**2*(3 + 2*b*c) + ((-1 + a*c)*(1 + b*c)*np.exp((a - b)*c))/c**2)/(c**2*Z)"
   ]
  },
  {
   "cell_type": "code",
   "execution_count": 17,
   "id": "737b321c-1acb-469a-b1fd-4092809a7b0a",
   "metadata": {},
   "outputs": [],
   "source": [
    "x1_ave_exact = x1_ave(a,b,c)"
   ]
  },
  {
   "cell_type": "code",
   "execution_count": 18,
   "id": "7f6c0166-d42c-410a-8419-073c05868d17",
   "metadata": {},
   "outputs": [],
   "source": [
    "x2_ave_exact = x2_ave(a,b,c)"
   ]
  },
  {
   "cell_type": "code",
   "execution_count": 19,
   "id": "61133d1d-0c36-4082-85ba-494ba333a247",
   "metadata": {},
   "outputs": [],
   "source": [
    "x1x2_ave_exact = x1x2_ave(a,b,c)"
   ]
  },
  {
   "cell_type": "code",
   "execution_count": 20,
   "id": "f9b8b17b-c080-4616-9d68-aad63c3106e0",
   "metadata": {},
   "outputs": [],
   "source": [
    "# Load data\n",
    "τ1τ2_direct_full_data = np.loadtxt(\"../data/%.6f_%.6f_%.6f_jointTruncexpon_direct.dat\"%(a,b,c))"
   ]
  },
  {
   "cell_type": "code",
   "execution_count": 21,
   "id": "63f722ec-970c-411c-a954-d2e6472734a2",
   "metadata": {},
   "outputs": [],
   "source": [
    "# Load data\n",
    "τ1τ2_rejection_full_data = np.loadtxt(\"../data/%.6f_%.6f_%.6f_jointTruncexpon_rejection.dat\"%(a,b,c))"
   ]
  },
  {
   "cell_type": "code",
   "execution_count": 22,
   "id": "0f6ca984-84e8-43fb-8327-271f0dce6f55",
   "metadata": {},
   "outputs": [
    {
     "name": "stdout",
     "output_type": "stream",
     "text": [
      "There are a total of 1000000 samples in the full data set.\n"
     ]
    }
   ],
   "source": [
    "# Get total number of samples in data\n",
    "num_samples_data = τ1τ2_rejection_full_data.shape[0]\n",
    "print(\"There are a total of %d samples in the full data set.\"%num_samples_data)"
   ]
  },
  {
   "cell_type": "code",
   "execution_count": 23,
   "id": "2e1b4569-8653-40f5-9e1e-e452e3c89178",
   "metadata": {},
   "outputs": [
    {
     "name": "stdout",
     "output_type": "stream",
     "text": [
      "The 200000 first samples will be thrown away for equilibration.\n"
     ]
    }
   ],
   "source": [
    "# Set start index (i.e, how many samples will be thrownaway due to equilibration)\n",
    "equil_percent = 0.2\n",
    "start = int(num_samples_data*equil_percent)\n",
    "\n",
    "print(\"The %d first samples will be thrown away for equilibration.\"%start)"
   ]
  },
  {
   "cell_type": "code",
   "execution_count": 24,
   "id": "72eec2fc-fcad-4d53-8e76-e24ee1f98c69",
   "metadata": {},
   "outputs": [],
   "source": [
    "τ1_direct_full_data = τ1τ2_direct_full_data[start:,0]\n",
    "τ2_direct_full_data = τ1τ2_direct_full_data[start:,1]\n",
    "\n",
    "τ1_rejection_full_data = τ1τ2_rejection_full_data[start:,0]\n",
    "τ2_rejection_full_data = τ1τ2_rejection_full_data[start:,1]"
   ]
  },
  {
   "cell_type": "code",
   "execution_count": 25,
   "id": "49b89839-5a96-4d64-916f-12084f2525de",
   "metadata": {},
   "outputs": [],
   "source": [
    "τ1_direct_mean = np.mean(τ1_direct_full_data)\n",
    "τ2_direct_mean = np.mean(τ2_direct_full_data)\n",
    "\n",
    "τ1_rejection_mean = np.mean(τ1_rejection_full_data)\n",
    "τ2_rejection_mean = np.mean(τ2_rejection_full_data)"
   ]
  },
  {
   "cell_type": "code",
   "execution_count": 26,
   "id": "5a9a681f-9a0a-49c6-b724-5e52bc08bbb6",
   "metadata": {},
   "outputs": [],
   "source": [
    "sample_numbers = np.array(range(τ1_direct_full_data.shape[0]))+1.0"
   ]
  },
  {
   "cell_type": "code",
   "execution_count": 27,
   "id": "793481d1-42c6-4e7d-ab0a-c9e99d6bf64a",
   "metadata": {},
   "outputs": [],
   "source": [
    "τ1_direct_running_ave = np.cumsum(τ1_direct_full_data)/sample_numbers\n",
    "τ1_rejection_running_ave = np.cumsum(τ1_rejection_full_data)/sample_numbers\n",
    "\n",
    "τ2_direct_running_ave = np.cumsum(τ2_direct_full_data)/sample_numbers\n",
    "τ2_rejection_running_ave = np.cumsum(τ2_rejection_full_data)/sample_numbers\n",
    "\n",
    "τ1τ2_direct_running_ave = np.cumsum(τ1_direct_full_data*τ2_direct_full_data)/sample_numbers\n",
    "τ1τ2_rejection_running_ave = np.cumsum(τ1_rejection_full_data*τ2_rejection_full_data)/sample_numbers"
   ]
  },
  {
   "cell_type": "code",
   "execution_count": 28,
   "id": "f1c19eaa-faec-4cd6-a2ef-1284e53b43a2",
   "metadata": {},
   "outputs": [],
   "source": [
    "start = 10000"
   ]
  },
  {
   "cell_type": "code",
   "execution_count": 29,
   "id": "ad8dfe22-9aa9-4e1b-a2ea-7ae9c14061a2",
   "metadata": {},
   "outputs": [
    {
     "data": {
      "text/plain": [
       "<matplotlib.legend.Legend at 0x7fc2ef4da940>"
      ]
     },
     "execution_count": 29,
     "metadata": {},
     "output_type": "execute_result"
    },
    {
     "data": {
      "image/png": "[encoded data removed]",
      "text/plain": [
       "<Figure size 432x288 with 1 Axes>"
      ]
     },
     "metadata": {
      "needs_background": "light"
     },
     "output_type": "display_data"
    }
   ],
   "source": [
    "fig, ax = plt.subplots()\n",
    "ax.set_xscale(\"linear\")\n",
    "ax.plot(sample_numbers[start:],τ1_direct_running_ave[start:],label=r\"$\\rm{Direct}$\")\n",
    "ax.plot(sample_numbers[start:],τ1_rejection_running_ave[start:],label=r\"$\\rm{Rejection}$\")\n",
    "ax.set_ylabel(r\"$\\langle \\tau_1 \\rangle$\")\n",
    "ax.set_xlabel(r\"$\\rm{Sample\\;Number}$\")\n",
    "ax.axhline(x1_ave_exact,color=\"#666666\",zorder=-1)\n",
    "ax.legend(frameon=False)\n",
    "# ax.set_xlim(-10,5000)"
   ]
  },
  {
   "cell_type": "code",
   "execution_count": 30,
   "id": "7f238c15-c572-45fa-8464-d8495678b8e7",
   "metadata": {},
   "outputs": [
    {
     "data": {
      "text/plain": [
       "<matplotlib.legend.Legend at 0x7fc2ef1728b0>"
      ]
     },
     "execution_count": 30,
     "metadata": {},
     "output_type": "execute_result"
    },
    {
     "data": {
      "image/png": "[encoded data removed]",
      "text/plain": [
       "<Figure size 432x288 with 1 Axes>"
      ]
     },
     "metadata": {
      "needs_background": "light"
     },
     "output_type": "display_data"
    }
   ],
   "source": [
    "fig, ax = plt.subplots()\n",
    "ax.set_xscale(\"linear\")\n",
    "ax.plot(sample_numbers[start:],τ2_direct_running_ave[start:],label=r\"$\\rm{Direct}$\")\n",
    "ax.plot(sample_numbers[start:],τ2_rejection_running_ave[start:],label=r\"$\\rm{Rejection}$\")\n",
    "ax.set_ylabel(r\"$\\langle \\tau_2 \\rangle$\")\n",
    "ax.set_xlabel(r\"$\\rm{Sample\\;Number}$\")\n",
    "ax.axhline(x2_ave_exact,color=\"#666666\",zorder=-1)\n",
    "ax.legend(frameon=False)\n",
    "# ax.set_xlim(-10,5000)"
   ]
  },
  {
   "cell_type": "code",
   "execution_count": 31,
   "id": "582293c2-7d62-4367-9c0e-f6b47617884c",
   "metadata": {},
   "outputs": [
    {
     "data": {
      "text/plain": [
       "<matplotlib.legend.Legend at 0x7fc2ef226fa0>"
      ]
     },
     "execution_count": 31,
     "metadata": {},
     "output_type": "execute_result"
    },
    {
     "data": {
      "image/png": "[encoded data removed]",
      "text/plain": [
       "<Figure size 432x288 with 1 Axes>"
      ]
     },
     "metadata": {
      "needs_background": "light"
     },
     "output_type": "display_data"
    }
   ],
   "source": [
    "fig, ax = plt.subplots()\n",
    "ax.set_xscale(\"linear\")\n",
    "ax.plot(sample_numbers[start:],τ1τ2_direct_running_ave[start:],label=r\"$\\rm{Direct}$\")\n",
    "ax.plot(sample_numbers[start:],τ1τ2_rejection_running_ave[start:],label=r\"$\\rm{Rejection}$\")\n",
    "ax.set_ylabel(r\"$\\langle \\tau_1 \\tau_2 \\rangle$\")\n",
    "ax.set_xlabel(r\"$\\rm{Sample\\;Number}$\")\n",
    "ax.axhline(x1x2_ave_exact,color=\"#666666\",zorder=-1)\n",
    "ax.legend(frameon=False)\n",
    "# ax.set_xlim(-10,5000)"
   ]
  },
  {
   "cell_type": "code",
   "execution_count": 32,
   "id": "f4c0a06e-7c53-4db0-a3f7-7bc2e425d591",
   "metadata": {},
   "outputs": [],
   "source": [
    "colors = ['salmon','dodgerblue','mediumseagreen']\n",
    "colors = ['#FFA0A0','#1e90ff','#9370da']\n",
    "colors_light = ['#fecfcf','#8ec7fe','#c8b7ec']"
   ]
  },
  {
   "cell_type": "code",
   "execution_count": 34,
   "id": "80092892-d295-4191-ad23-eb293f7f5bc6",
   "metadata": {},
   "outputs": [
    {
     "data": {
      "image/png": "[encoded data removed]",
      "text/plain": [
       "<Figure size 221.976x260.604 with 3 Axes>"
      ]
     },
     "metadata": {
      "needs_background": "light"
     },
     "output_type": "display_data"
    }
   ],
   "source": [
    "with plt.style.context('../IOP_large.mplstyle'):\n",
    "\n",
    "    fig,(ax1,ax2,ax3) = plt.subplots(3,1,sharex=True, constrained_layout=True, figsize=[3.083, 1.9*1.905])\n",
    "    #plt.subplots_adjust(hspace=0.025)\n",
    "    # plt.xscale(\"log\")\n",
    "\n",
    "    start = 10000\n",
    "\n",
    "    ax1.plot(sample_numbers[start:],τ1_direct_running_ave[start:],label=r\"$\\rm{Direct}$\",color=colors[1])\n",
    "    ax1.plot(sample_numbers[start:],τ1_rejection_running_ave[start:],label=r\"$\\rm{Rejection}$\",color=colors[0])\n",
    "    ax1.set_ylabel(r\"$\\langle x_1 \\rangle$\")\n",
    "    # ax1.set_xlabel(r\"$\\rm{Sample\\;Number}$\")\n",
    "    ax1.axhline(x1_ave_exact,color=\"#666666\",zorder=-1)\n",
    "    ax1.tick_params(axis=\"both\",direction=\"in\")\n",
    "    ax1.legend(loc='lower right',handlelength=1, handletextpad=0.5)\n",
    "    ax1.set_xlim(0,750000)\n",
    "\n",
    "    ax2.plot(sample_numbers[start:],τ2_direct_running_ave[start:],label=r\"$\\rm{Direct}$\",color=colors[1])\n",
    "    ax2.plot(sample_numbers[start:],τ2_rejection_running_ave[start:],label=r\"$\\rm{Rejection}$\",color=colors[0])\n",
    "    ax2.set_ylabel(r\"$\\langle x_2 \\rangle$\")\n",
    "    # ax2.set_xlabel(r\"$\\rm{Sample\\;Number}$\")\n",
    "    ax2.axhline(x2_ave_exact,color=\"#666666\",zorder=-1)\n",
    "    ax2.tick_params(axis=\"both\",direction=\"in\")\n",
    "    # ax2.legend(frameon=False)\n",
    "\n",
    "    ax3.plot(sample_numbers[start:],τ1τ2_direct_running_ave[start:],label=r\"$\\rm{Direct}$\",color=colors[1])\n",
    "    ax3.plot(sample_numbers[start:],τ1τ2_rejection_running_ave[start:],label=r\"$\\rm{Rejection}$\",color=colors[0])\n",
    "    ax3.set_ylabel(r\"$\\langle x_1 x_2 \\rangle$\")\n",
    "    ax3.set_xlabel(r\"$\\rm{Sample\\;Number}$\")\n",
    "    ax3.axhline(x1x2_ave_exact,color=\"#666666\",zorder=-1)\n",
    "    ax3.tick_params(axis=\"both\",direction=\"in\")\n",
    "    ax1.annotate(r\"$a,b,c = %.1f$,$%.1f$,$%.1f$\"%(a,b,c),(0.99,0.88),\n",
    "                    xycoords='axes fraction',ha='right')\n",
    "    # ax3.legend(frameon=False)\n",
    "\n",
    "    plt.savefig(\"../figures/rvs_convergence.pdf\")\n",
    "    plt.savefig(\"../figures/rvs_convergence.svg\")\n",
    "\n"
   ]
  },
  {
   "cell_type": "code",
   "execution_count": null,
   "id": "84baa8d2-920d-473b-8aa4-377def145463",
   "metadata": {},
   "outputs": [],
   "source": []
  },
  {
   "cell_type": "code",
   "execution_count": null,
   "id": "01d7ed7e-3a5a-40e5-bd70-04405308c937",
   "metadata": {},
   "outputs": [],
   "source": []
  },
  {
   "cell_type": "code",
   "execution_count": null,
   "id": "c91bd442-bc22-4e6e-8bd0-c6e1a34071bb",
   "metadata": {},
   "outputs": [],
   "source": []
  }
 ],
 "metadata": {
  "kernelspec": {
   "display_name": "Python 3",
   "language": "python",
   "name": "python3"
  },
  "language_info": {
   "codemirror_mode": {
    "name": "ipython",
    "version": 3
   },
   "file_extension": ".py",
   "mimetype": "text/x-python",
   "name": "python",
   "nbconvert_exporter": "python",
   "pygments_lexer": "ipython3",
   "version": "3.8.5"
  }
 },
 "nbformat": 4,
 "nbformat_minor": 5
}
