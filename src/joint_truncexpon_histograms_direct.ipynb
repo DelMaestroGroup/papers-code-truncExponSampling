{
 "cells": [
  {
   "cell_type": "code",
   "execution_count": 1,
   "metadata": {},
   "outputs": [],
   "source": [
    "import numpy as np\n",
    "import matplotlib.pyplot as plt\n",
    "import scipy.integrate as integrate\n",
    "from scipy import stats"
   ]
  },
  {
   "cell_type": "code",
   "execution_count": 2,
   "metadata": {},
   "outputs": [],
   "source": [
    "import sys\n",
    "import importlib\n",
    "# sys.path.append('../ndtest/')\n",
    "# import ndtest\n",
    "# importlib.reload(ndtest);\n",
    "# sys.path.append('../2DKS/')\n",
    "# import KS2D\n",
    "# importlib.reload(KS2D);"
   ]
  },
  {
   "cell_type": "code",
   "execution_count": 3,
   "metadata": {},
   "outputs": [],
   "source": [
    "# Set parameters\n",
    "a,b,c = 0.1,1.5,-2.0"
   ]
  },
  {
   "cell_type": "code",
   "execution_count": 4,
   "metadata": {},
   "outputs": [],
   "source": [
    "# Load data\n",
    "τ1τ2_direct_full_data = np.loadtxt(\"../data/%.6f_%.6f_%.6f_jointTruncexpon_direct.dat\"%(a,b,c))"
   ]
  },
  {
   "cell_type": "code",
   "execution_count": 5,
   "metadata": {},
   "outputs": [],
   "source": [
    "# Load data\n",
    "τ1τ2_rejection_full_data = np.loadtxt(\"../data/%.6f_%.6f_%.6f_jointTruncexpon_rejection.dat\"%(a,b,c))"
   ]
  },
  {
   "cell_type": "code",
   "execution_count": 6,
   "metadata": {},
   "outputs": [
    {
     "name": "stdout",
     "output_type": "stream",
     "text": [
      "There are a total of 1000000 samples in the full data set.\n"
     ]
    }
   ],
   "source": [
    "# Get total number of samples in data\n",
    "num_samples_data = τ1τ2_rejection_full_data.shape[0]\n",
    "print(\"There are a total of %d samples in the full data set.\"%num_samples_data)"
   ]
  },
  {
   "cell_type": "code",
   "execution_count": 7,
   "metadata": {},
   "outputs": [
    {
     "name": "stdout",
     "output_type": "stream",
     "text": [
      "The 200000 first samples will be thrown away for equilibration.\n"
     ]
    }
   ],
   "source": [
    "# Set start index (i.e, how many samples will be thrownaway due to equilibration)\n",
    "equil_percent = 0.2\n",
    "start = int(num_samples_data*equil_percent)\n",
    "\n",
    "print(\"The %d first samples will be thrown away for equilibration.\"%start)"
   ]
  },
  {
   "cell_type": "code",
   "execution_count": 8,
   "metadata": {},
   "outputs": [],
   "source": [
    "τ1_direct_full_data = τ1τ2_direct_full_data[start:,0]\n",
    "τ2_direct_full_data = τ1τ2_direct_full_data[start:,1]\n",
    "\n",
    "τ1_rejection_full_data = τ1τ2_rejection_full_data[start:,0]\n",
    "τ2_rejection_full_data = τ1τ2_rejection_full_data[start:,1]"
   ]
  },
  {
   "cell_type": "markdown",
   "metadata": {},
   "source": [
    "### $\\tau_1$ & $\\tau_2$ sampling"
   ]
  },
  {
   "cell_type": "code",
   "execution_count": 9,
   "metadata": {},
   "outputs": [],
   "source": [
    "def P_marg(x1,a,b,c):\n",
    "    Z = (np.exp(c*(b-a))-1)/c - (b-a)\n",
    "    return (np.exp(c*(b-x1))-1)/Z"
   ]
  },
  {
   "cell_type": "code",
   "execution_count": 10,
   "metadata": {},
   "outputs": [],
   "source": [
    "x1 = np.linspace(a,b,1000)"
   ]
  },
  {
   "cell_type": "code",
   "execution_count": 11,
   "metadata": {},
   "outputs": [
    {
     "data": {
      "image/png": "[encoded data removed]",
      "text/plain": [
       "<Figure size 432x288 with 1 Axes>"
      ]
     },
     "metadata": {
      "needs_background": "light"
     },
     "output_type": "display_data"
    }
   ],
   "source": [
    "plt.hist(τ1_direct_full_data, density=True, bins=100,label=\"Direct\");  # density=False would make counts\n",
    "plt.hist(τ1_rejection_full_data, density=True, bins=100,label=\"Rejection\");  # density=False would make counts\n",
    "plt.plot(x1,P_marg(x1,a,b,c),color='black')\n",
    "plt.xlabel(r'$\\tau_1$');\n",
    "plt.legend(frameon=False);"
   ]
  },
  {
   "cell_type": "code",
   "execution_count": 12,
   "metadata": {},
   "outputs": [
    {
     "data": {
      "image/png": "[encoded data removed]",
      "text/plain": [
       "<Figure size 432x288 with 1 Axes>"
      ]
     },
     "metadata": {
      "needs_background": "light"
     },
     "output_type": "display_data"
    }
   ],
   "source": [
    "plt.hist(τ2_direct_full_data, density=True, bins=100,label='Direct');  # density=False would make counts\n",
    "plt.hist(τ2_rejection_full_data, density=True, bins=100,label='Rejection');  # density=False would make counts\n",
    "plt.xlabel(r'$\\tau_2$');\n",
    "plt.legend(frameon=False);"
   ]
  },
  {
   "cell_type": "markdown",
   "metadata": {},
   "source": [
    "### $\\tau_1 | \\tau_2$ heatmap"
   ]
  },
  {
   "cell_type": "code",
   "execution_count": 13,
   "metadata": {},
   "outputs": [],
   "source": [
    "num_bins = 30"
   ]
  },
  {
   "cell_type": "code",
   "execution_count": 14,
   "metadata": {},
   "outputs": [
    {
     "data": {
      "text/plain": [
       "<matplotlib.colorbar.Colorbar at 0x1668580a0>"
      ]
     },
     "execution_count": 14,
     "metadata": {},
     "output_type": "execute_result"
    },
    {
     "data": {
      "image/png": "[encoded data removed]",
      "text/plain": [
       "<Figure size 432x288 with 2 Axes>"
      ]
     },
     "metadata": {
      "needs_background": "light"
     },
     "output_type": "display_data"
    }
   ],
   "source": [
    "# fig,ax = plt.subplots(1,2,figsize=(10,4.5), dpi=100,sharey=True,tight_layout=True);\n",
    "fig,ax = plt.subplots()\n",
    "# plt.subplots_adjust(wspace=0.02);\n",
    "\n",
    "h = ax.hist2d(τ1_direct_full_data,τ2_direct_full_data,density=True,bins=num_bins)\n",
    "ax.set_xlabel(r\"$\\tau_1$\")\n",
    "ax.set_ylabel(r\"$\\tau_2$\");\n",
    "fig.colorbar(h[3], ax=ax)\n",
    "# plt.savefig(\"../figures/joint_truncexpon_histogram_benchmark.pdf\",dpi=300)"
   ]
  },
  {
   "cell_type": "code",
   "execution_count": 15,
   "metadata": {},
   "outputs": [],
   "source": [
    "def _W(τ1,τ2,a,b,c):\n",
    "    Z = (np.exp(c*(b-a))+a*c-b*c-1)/c**2\n",
    "    if (τ2<τ1): \n",
    "        return 0\n",
    "    else:\n",
    "        return np.exp(c*(τ2-τ1))/Z\n",
    "\n",
    "# Vectorize function so it's \"numpy aware\"\n",
    "W = np.vectorize(_W)\n",
    "\n",
    "def _W_for_ks(τ1,τ2):\n",
    "    a,b,c = 0.1,1.5,-2.0\n",
    "    Z = (np.exp(c*(b-a))+a*c-b*c-1)/c**2\n",
    "    if (τ2<τ1): \n",
    "        return 0\n",
    "    else:\n",
    "        return np.exp(c*(τ2-τ1))/Z"
   ]
  },
  {
   "cell_type": "markdown",
   "metadata": {},
   "source": [
    "### Compute exact 2D Distribution"
   ]
  },
  {
   "cell_type": "code",
   "execution_count": 16,
   "metadata": {},
   "outputs": [],
   "source": [
    "_τ1,_τ2 = np.linspace(a,b,num_bins),np.linspace(a,b,num_bins)\n",
    "\n",
    "# Create meshgrid\n",
    "τ1,τ2 = np.meshgrid(_τ1,_τ2)"
   ]
  },
  {
   "cell_type": "code",
   "execution_count": 17,
   "metadata": {},
   "outputs": [],
   "source": [
    "W = W(τ1,τ2,a,b,c);"
   ]
  },
  {
   "cell_type": "code",
   "execution_count": 18,
   "metadata": {},
   "outputs": [
    {
     "data": {
      "image/png": "[encoded data removed]",
      "text/plain": [
       "<Figure size 432x288 with 2 Axes>"
      ]
     },
     "metadata": {
      "needs_background": "light"
     },
     "output_type": "display_data"
    }
   ],
   "source": [
    "# Plot\n",
    "plt.imshow(W,origin='lower',extent=[a,b,a,b]);\n",
    "plt.xlabel(r'$\\tau_1$')\n",
    "plt.ylabel(r'$\\tau_2$')\n",
    "plt.colorbar();"
   ]
  },
  {
   "cell_type": "markdown",
   "metadata": {},
   "source": [
    "### Compute relative errors"
   ]
  },
  {
   "cell_type": "code",
   "execution_count": 19,
   "metadata": {},
   "outputs": [
    {
     "name": "stderr",
     "output_type": "stream",
     "text": [
      "/var/folders/_1/mgfs2x6n1d76ms23hqf4sbf40000gn/T/ipykernel_59255/2062016784.py:5: RuntimeWarning: invalid value encountered in true_divide\n",
      "  relErr = np.nan_to_num((W-H)/W,nan=0.0, posinf=0.0, neginf=0.0);\n"
     ]
    }
   ],
   "source": [
    "x_bins = np.linspace(a,b,num_bins+1)\n",
    "y_bins = np.linspace(a,b,num_bins+1)\n",
    "H = np.histogram2d(τ1_direct_full_data, τ2_direct_full_data, bins=(x_bins, y_bins),density=True) # H as in histogram\n",
    "H = H[0].T # Why do we need to take transpose?\n",
    "relErr = np.nan_to_num((W-H)/W,nan=0.0, posinf=0.0, neginf=0.0);\n",
    "relErr_direct = np.ma.masked_array(relErr,mask=relErr==np.diag(relErr))"
   ]
  },
  {
   "cell_type": "code",
   "execution_count": 20,
   "metadata": {},
   "outputs": [
    {
     "name": "stderr",
     "output_type": "stream",
     "text": [
      "/var/folders/_1/mgfs2x6n1d76ms23hqf4sbf40000gn/T/ipykernel_59255/4035448864.py:5: RuntimeWarning: invalid value encountered in true_divide\n",
      "  relErr = np.nan_to_num((W-H)/W,nan=0.0, posinf=0.0, neginf=0.0);\n"
     ]
    }
   ],
   "source": [
    "x_bins = np.linspace(a,b,num_bins+1)\n",
    "y_bins = np.linspace(a,b,num_bins+1)\n",
    "H = np.histogram2d(τ1_rejection_full_data, τ2_rejection_full_data, bins=(x_bins, y_bins),density=True) # H as in histogram\n",
    "H = H[0].T # Why do we need to take transpose?\n",
    "relErr = np.nan_to_num((W-H)/W,nan=0.0, posinf=0.0, neginf=0.0);\n",
    "relErr_rejection = np.ma.masked_array(relErr,mask=relErr==np.diag(relErr))"
   ]
  },
  {
   "cell_type": "code",
   "execution_count": 21,
   "metadata": {},
   "outputs": [
    {
     "data": {
      "image/png": "[encoded data removed]",
      "text/plain": [
       "<Figure size 432x288 with 2 Axes>"
      ]
     },
     "metadata": {
      "needs_background": "light"
     },
     "output_type": "display_data"
    }
   ],
   "source": [
    "relErr = np.ma.masked_array(relErr,mask=relErr==np.diag(relErr))\n",
    "plt.imshow((relErr),origin='lower',extent=[a,b,a,b]);\n",
    "plt.xlabel(r'$\\tau_1$')\n",
    "plt.ylabel(r'$\\tau_2$')\n",
    "plt.colorbar();\n",
    "# plt.title(r'$c<0$');\n",
    "# plt.savefig(\"0.100000_1.300000_-0.500000_relativeError_masked_noAbs.pdf\",dpi=400)"
   ]
  },
  {
   "cell_type": "markdown",
   "metadata": {},
   "source": [
    "## Make combined plot"
   ]
  },
  {
   "cell_type": "code",
   "execution_count": 22,
   "metadata": {},
   "outputs": [],
   "source": [
    "# Get maximum and minimum values from the exact joint distribution P(τ1,τ2)\n",
    "vmax = np.max(W)\n",
    "vmin = np.min(W)"
   ]
  },
  {
   "cell_type": "code",
   "execution_count": 23,
   "metadata": {},
   "outputs": [],
   "source": [
    "rel_err_vmax_rejection = np.max(relErr_rejection)\n",
    "rel_err_vmin_rejection = np.min(relErr_rejection)"
   ]
  },
  {
   "cell_type": "code",
   "execution_count": 24,
   "metadata": {},
   "outputs": [],
   "source": [
    "rel_err_vmax_direct = np.max(relErr_direct)\n",
    "rel_err_vmin_direct = np.min(relErr_direct)"
   ]
  },
  {
   "cell_type": "code",
   "execution_count": 25,
   "metadata": {},
   "outputs": [],
   "source": [
    "vmax_rel_err = max(rel_err_vmax_rejection,rel_err_vmax_direct)\n",
    "vmin_rel_err = min(rel_err_vmin_rejection,rel_err_vmin_direct)"
   ]
  },
  {
   "cell_type": "code",
   "execution_count": 101,
   "metadata": {},
   "outputs": [
    {
     "ename": "AttributeError",
     "evalue": "'AxesImage' object has no property 'raster'",
     "output_type": "error",
     "traceback": [
      "\u001b[0;31m---------------------------------------------------------------------------\u001b[0m",
      "\u001b[0;31mAttributeError\u001b[0m                            Traceback (most recent call last)",
      "\u001b[0;32m/var/folders/_1/mgfs2x6n1d76ms23hqf4sbf40000gn/T/ipykernel_59255/515786180.py\u001b[0m in \u001b[0;36m<module>\u001b[0;34m\u001b[0m\n\u001b[1;32m     20\u001b[0m \u001b[0;34m\u001b[0m\u001b[0m\n\u001b[1;32m     21\u001b[0m     \u001b[0;31m# Exact\u001b[0m\u001b[0;34m\u001b[0m\u001b[0;34m\u001b[0m\u001b[0;34m\u001b[0m\u001b[0m\n\u001b[0;32m---> 22\u001b[0;31m     \u001b[0mim\u001b[0m \u001b[0;34m=\u001b[0m \u001b[0mf9_ax1\u001b[0m\u001b[0;34m.\u001b[0m\u001b[0mimshow\u001b[0m\u001b[0;34m(\u001b[0m\u001b[0mW\u001b[0m\u001b[0;34m,\u001b[0m\u001b[0morigin\u001b[0m\u001b[0;34m=\u001b[0m\u001b[0;34m'lower'\u001b[0m\u001b[0;34m,\u001b[0m\u001b[0mextent\u001b[0m\u001b[0;34m=\u001b[0m\u001b[0;34m[\u001b[0m\u001b[0ma\u001b[0m\u001b[0;34m,\u001b[0m\u001b[0mb\u001b[0m\u001b[0;34m,\u001b[0m\u001b[0ma\u001b[0m\u001b[0;34m,\u001b[0m\u001b[0mb\u001b[0m\u001b[0;34m]\u001b[0m\u001b[0;34m,\u001b[0m \u001b[0maspect\u001b[0m\u001b[0;34m=\u001b[0m\u001b[0;34m\"auto\"\u001b[0m\u001b[0;34m,\u001b[0m\u001b[0mvmax\u001b[0m\u001b[0;34m=\u001b[0m\u001b[0mvmax\u001b[0m\u001b[0;34m,\u001b[0m\u001b[0mvmin\u001b[0m\u001b[0;34m=\u001b[0m\u001b[0mvmin\u001b[0m\u001b[0;34m,\u001b[0m \u001b[0mraster\u001b[0m\u001b[0;34m=\u001b[0m\u001b[0;32mTrue\u001b[0m\u001b[0;34m)\u001b[0m\u001b[0;34m\u001b[0m\u001b[0;34m\u001b[0m\u001b[0m\n\u001b[0m\u001b[1;32m     23\u001b[0m     \u001b[0mf9_ax1\u001b[0m\u001b[0;34m.\u001b[0m\u001b[0mset_xlabel\u001b[0m\u001b[0;34m(\u001b[0m\u001b[0;34mr\"$x_1$\"\u001b[0m\u001b[0;34m)\u001b[0m\u001b[0;34m\u001b[0m\u001b[0;34m\u001b[0m\u001b[0m\n\u001b[1;32m     24\u001b[0m     \u001b[0mf9_ax1\u001b[0m\u001b[0;34m.\u001b[0m\u001b[0mset_ylabel\u001b[0m\u001b[0;34m(\u001b[0m\u001b[0;34mr\"$x_2$\"\u001b[0m\u001b[0;34m)\u001b[0m\u001b[0;34m;\u001b[0m\u001b[0;34m\u001b[0m\u001b[0;34m\u001b[0m\u001b[0m\n",
      "\u001b[0;32m~/opt/miniconda3/lib/python3.9/site-packages/matplotlib/__init__.py\u001b[0m in \u001b[0;36minner\u001b[0;34m(ax, data, *args, **kwargs)\u001b[0m\n\u001b[1;32m   1359\u001b[0m     \u001b[0;32mdef\u001b[0m \u001b[0minner\u001b[0m\u001b[0;34m(\u001b[0m\u001b[0max\u001b[0m\u001b[0;34m,\u001b[0m \u001b[0;34m*\u001b[0m\u001b[0margs\u001b[0m\u001b[0;34m,\u001b[0m \u001b[0mdata\u001b[0m\u001b[0;34m=\u001b[0m\u001b[0;32mNone\u001b[0m\u001b[0;34m,\u001b[0m \u001b[0;34m**\u001b[0m\u001b[0mkwargs\u001b[0m\u001b[0;34m)\u001b[0m\u001b[0;34m:\u001b[0m\u001b[0;34m\u001b[0m\u001b[0;34m\u001b[0m\u001b[0m\n\u001b[1;32m   1360\u001b[0m         \u001b[0;32mif\u001b[0m \u001b[0mdata\u001b[0m \u001b[0;32mis\u001b[0m \u001b[0;32mNone\u001b[0m\u001b[0;34m:\u001b[0m\u001b[0;34m\u001b[0m\u001b[0;34m\u001b[0m\u001b[0m\n\u001b[0;32m-> 1361\u001b[0;31m             \u001b[0;32mreturn\u001b[0m \u001b[0mfunc\u001b[0m\u001b[0;34m(\u001b[0m\u001b[0max\u001b[0m\u001b[0;34m,\u001b[0m \u001b[0;34m*\u001b[0m\u001b[0mmap\u001b[0m\u001b[0;34m(\u001b[0m\u001b[0msanitize_sequence\u001b[0m\u001b[0;34m,\u001b[0m \u001b[0margs\u001b[0m\u001b[0;34m)\u001b[0m\u001b[0;34m,\u001b[0m \u001b[0;34m**\u001b[0m\u001b[0mkwargs\u001b[0m\u001b[0;34m)\u001b[0m\u001b[0;34m\u001b[0m\u001b[0;34m\u001b[0m\u001b[0m\n\u001b[0m\u001b[1;32m   1362\u001b[0m \u001b[0;34m\u001b[0m\u001b[0m\n\u001b[1;32m   1363\u001b[0m         \u001b[0mbound\u001b[0m \u001b[0;34m=\u001b[0m \u001b[0mnew_sig\u001b[0m\u001b[0;34m.\u001b[0m\u001b[0mbind\u001b[0m\u001b[0;34m(\u001b[0m\u001b[0max\u001b[0m\u001b[0;34m,\u001b[0m \u001b[0;34m*\u001b[0m\u001b[0margs\u001b[0m\u001b[0;34m,\u001b[0m \u001b[0;34m**\u001b[0m\u001b[0mkwargs\u001b[0m\u001b[0;34m)\u001b[0m\u001b[0;34m\u001b[0m\u001b[0;34m\u001b[0m\u001b[0m\n",
      "\u001b[0;32m~/opt/miniconda3/lib/python3.9/site-packages/matplotlib/axes/_axes.py\u001b[0m in \u001b[0;36mimshow\u001b[0;34m(self, X, cmap, norm, aspect, interpolation, alpha, vmin, vmax, origin, extent, filternorm, filterrad, resample, url, **kwargs)\u001b[0m\n\u001b[1;32m   5603\u001b[0m             \u001b[0maspect\u001b[0m \u001b[0;34m=\u001b[0m \u001b[0mrcParams\u001b[0m\u001b[0;34m[\u001b[0m\u001b[0;34m'image.aspect'\u001b[0m\u001b[0;34m]\u001b[0m\u001b[0;34m\u001b[0m\u001b[0;34m\u001b[0m\u001b[0m\n\u001b[1;32m   5604\u001b[0m         \u001b[0mself\u001b[0m\u001b[0;34m.\u001b[0m\u001b[0mset_aspect\u001b[0m\u001b[0;34m(\u001b[0m\u001b[0maspect\u001b[0m\u001b[0;34m)\u001b[0m\u001b[0;34m\u001b[0m\u001b[0;34m\u001b[0m\u001b[0m\n\u001b[0;32m-> 5605\u001b[0;31m         im = mimage.AxesImage(self, cmap, norm, interpolation, origin, extent,\n\u001b[0m\u001b[1;32m   5606\u001b[0m                               \u001b[0mfilternorm\u001b[0m\u001b[0;34m=\u001b[0m\u001b[0mfilternorm\u001b[0m\u001b[0;34m,\u001b[0m \u001b[0mfilterrad\u001b[0m\u001b[0;34m=\u001b[0m\u001b[0mfilterrad\u001b[0m\u001b[0;34m,\u001b[0m\u001b[0;34m\u001b[0m\u001b[0;34m\u001b[0m\u001b[0m\n\u001b[1;32m   5607\u001b[0m                               resample=resample, **kwargs)\n",
      "\u001b[0;32m~/opt/miniconda3/lib/python3.9/site-packages/matplotlib/image.py\u001b[0m in \u001b[0;36m__init__\u001b[0;34m(self, ax, cmap, norm, interpolation, origin, extent, filternorm, filterrad, resample, **kwargs)\u001b[0m\n\u001b[1;32m    898\u001b[0m         \u001b[0mself\u001b[0m\u001b[0;34m.\u001b[0m\u001b[0m_extent\u001b[0m \u001b[0;34m=\u001b[0m \u001b[0mextent\u001b[0m\u001b[0;34m\u001b[0m\u001b[0;34m\u001b[0m\u001b[0m\n\u001b[1;32m    899\u001b[0m \u001b[0;34m\u001b[0m\u001b[0m\n\u001b[0;32m--> 900\u001b[0;31m         super().__init__(\n\u001b[0m\u001b[1;32m    901\u001b[0m             \u001b[0max\u001b[0m\u001b[0;34m,\u001b[0m\u001b[0;34m\u001b[0m\u001b[0;34m\u001b[0m\u001b[0m\n\u001b[1;32m    902\u001b[0m             \u001b[0mcmap\u001b[0m\u001b[0;34m=\u001b[0m\u001b[0mcmap\u001b[0m\u001b[0;34m,\u001b[0m\u001b[0;34m\u001b[0m\u001b[0;34m\u001b[0m\u001b[0m\n",
      "\u001b[0;32m~/opt/miniconda3/lib/python3.9/site-packages/matplotlib/image.py\u001b[0m in \u001b[0;36m__init__\u001b[0;34m(self, ax, cmap, norm, interpolation, origin, filternorm, filterrad, resample, **kwargs)\u001b[0m\n\u001b[1;32m    255\u001b[0m         \u001b[0mself\u001b[0m\u001b[0;34m.\u001b[0m\u001b[0m_imcache\u001b[0m \u001b[0;34m=\u001b[0m \u001b[0;32mNone\u001b[0m\u001b[0;34m\u001b[0m\u001b[0;34m\u001b[0m\u001b[0m\n\u001b[1;32m    256\u001b[0m \u001b[0;34m\u001b[0m\u001b[0m\n\u001b[0;32m--> 257\u001b[0;31m         \u001b[0mself\u001b[0m\u001b[0;34m.\u001b[0m\u001b[0mupdate\u001b[0m\u001b[0;34m(\u001b[0m\u001b[0mkwargs\u001b[0m\u001b[0;34m)\u001b[0m\u001b[0;34m\u001b[0m\u001b[0;34m\u001b[0m\u001b[0m\n\u001b[0m\u001b[1;32m    258\u001b[0m \u001b[0;34m\u001b[0m\u001b[0m\n\u001b[1;32m    259\u001b[0m     \u001b[0;32mdef\u001b[0m \u001b[0m__getstate__\u001b[0m\u001b[0;34m(\u001b[0m\u001b[0mself\u001b[0m\u001b[0;34m)\u001b[0m\u001b[0;34m:\u001b[0m\u001b[0;34m\u001b[0m\u001b[0;34m\u001b[0m\u001b[0m\n",
      "\u001b[0;32m~/opt/miniconda3/lib/python3.9/site-packages/matplotlib/artist.py\u001b[0m in \u001b[0;36mupdate\u001b[0;34m(self, props)\u001b[0m\n\u001b[1;32m   1060\u001b[0m                     \u001b[0mfunc\u001b[0m \u001b[0;34m=\u001b[0m \u001b[0mgetattr\u001b[0m\u001b[0;34m(\u001b[0m\u001b[0mself\u001b[0m\u001b[0;34m,\u001b[0m \u001b[0;34mf\"set_{k}\"\u001b[0m\u001b[0;34m,\u001b[0m \u001b[0;32mNone\u001b[0m\u001b[0;34m)\u001b[0m\u001b[0;34m\u001b[0m\u001b[0;34m\u001b[0m\u001b[0m\n\u001b[1;32m   1061\u001b[0m                     \u001b[0;32mif\u001b[0m \u001b[0;32mnot\u001b[0m \u001b[0mcallable\u001b[0m\u001b[0;34m(\u001b[0m\u001b[0mfunc\u001b[0m\u001b[0;34m)\u001b[0m\u001b[0;34m:\u001b[0m\u001b[0;34m\u001b[0m\u001b[0;34m\u001b[0m\u001b[0m\n\u001b[0;32m-> 1062\u001b[0;31m                         raise AttributeError(f\"{type(self).__name__!r} object \"\n\u001b[0m\u001b[1;32m   1063\u001b[0m                                              f\"has no property {k!r}\")\n\u001b[1;32m   1064\u001b[0m                     \u001b[0mret\u001b[0m\u001b[0;34m.\u001b[0m\u001b[0mappend\u001b[0m\u001b[0;34m(\u001b[0m\u001b[0mfunc\u001b[0m\u001b[0;34m(\u001b[0m\u001b[0mv\u001b[0m\u001b[0;34m)\u001b[0m\u001b[0;34m)\u001b[0m\u001b[0;34m\u001b[0m\u001b[0;34m\u001b[0m\u001b[0m\n",
      "\u001b[0;31mAttributeError\u001b[0m: 'AxesImage' object has no property 'raster'"
     ]
    },
    {
     "data": {
      "image/png": "[encoded data removed]",
      "text/plain": [
       "<Figure size 244.174x246.888 with 5 Axes>"
      ]
     },
     "metadata": {
      "needs_background": "light"
     },
     "output_type": "display_data"
    }
   ],
   "source": [
    "with plt.style.context('../IOP_large.mplstyle'):\n",
    "\n",
    "    fig9 = plt.figure(constrained_layout=False, figsize=[1.1*3.083,1.8*1.905])\n",
    "#    plt.subplots_adjust(left=0.2)\n",
    "    \n",
    "    widths = [1,1,1]\n",
    "    heights = [1,1,1]\n",
    "    gs2 = fig9.add_gridspec(ncols=3, nrows=3, width_ratios=widths,height_ratios=heights,\n",
    "                            hspace=0.05,wspace=0.05)\n",
    "\n",
    "    # gs2 = fig9.add_gridspec(nrows=2, ncols=3,hspace=0.08,wspace=0.05)\n",
    "    \n",
    "    f9_ax1 = fig9.add_subplot(gs2[0,0])\n",
    "\n",
    "    f9_ax2 = fig9.add_subplot(gs2[0,1],sharey=f9_ax1,sharex=f9_ax1)\n",
    "    f9_ax3 = fig9.add_subplot(gs2[0,2],sharey=f9_ax1,sharex=f9_ax1)\n",
    "\n",
    "    f9_ax4 = fig9.add_subplot(gs2[1,1],sharey=f9_ax1,sharex=f9_ax1)\n",
    "    f9_ax5 = fig9.add_subplot(gs2[1,2],sharey=f9_ax1,sharex=f9_ax1)\n",
    "\n",
    "    # Exact\n",
    "    im = f9_ax1.imshow(W,origin='lower',extent=[a,b,a,b], aspect=\"auto\",vmax=vmax,vmin=vmin)\n",
    "    f9_ax1.set_xlabel(r\"$x_1$\")\n",
    "    f9_ax1.set_ylabel(r\"$x_2$\");\n",
    "    f9_ax1.annotate(r\"$\\rm{Exact}$\",(0.99,0.05),xycoords=\"axes fraction\",color=\"white\", ha='right')\n",
    "\n",
    "    # Rejection\n",
    "    h_rejection =f9_ax2.hist2d(τ1_rejection_full_data,τ2_rejection_full_data,density=True,bins=num_bins,vmax=vmax,vmin=vmin)\n",
    "    # f9_ax2.set_ylabel(r\"$x_2$\");\n",
    "    f9_ax2.annotate(r\"$\\rm{Rejection}$\",(0.99,0.05),xycoords=\"axes fraction\",color=\"white\", ha='right')\n",
    "    f9_ax2.tick_params(labelbottom=False)    \n",
    "    f9_ax2.tick_params(labelleft=False)    \n",
    "\n",
    "    # Exact/Rejection Relative Error\n",
    "    im2 = f9_ax4.imshow(relErr_rejection,origin='lower',extent=[a,b,a,b], aspect=\"auto\",cmap=\"RdBu\",vmax=vmax_rel_err,vmin=vmin_rel_err);\n",
    "    f9_ax4.set_xlabel(r\"$x_1$\")\n",
    "    f9_ax4.set_ylabel(r\"$x_2$\");\n",
    "    f9_ax4.annotate(r\"$\\rm{Rejection}$\",(0.99,0.05),xycoords=\"axes fraction\",color=\"white\", ha='right')\n",
    "    # fig.colorbar(im2, ax=f9_ax4)\n",
    "    # fig.colorbar(im2, ax=f9_ax4).remove()\n",
    "\n",
    "    # Inversion\n",
    "    h = f9_ax3.hist2d(τ1_direct_full_data,τ2_direct_full_data,density=True,bins=num_bins,vmax=vmax,vmin=vmin)\n",
    "    f9_ax3.annotate(r\"$\\rm{Direct}$\",(0.99,0.05),xycoords=\"axes fraction\",color=\"white\", ha='right')\n",
    "    f9_ax3.tick_params(labelbottom=False)    \n",
    "    f9_ax3.tick_params(labelleft=False)    \n",
    "\n",
    "    # Exact/Inversion Relative Error\n",
    "    im2 = f9_ax5.imshow(relErr_direct,origin='lower',extent=[a,b,a,b], aspect=\"auto\",cmap=\"RdBu\",vmax=vmax_rel_err,vmin=vmin_rel_err);\n",
    "    f9_ax5.set_xlabel(r\"$x_1$\")\n",
    "    f9_ax5.annotate(r\"$\\rm{Direct}$\",(0.99,0.05),xycoords=\"axes fraction\",color=\"white\", ha='right')\n",
    "    f9_ax5.tick_params(labelleft=False)    \n",
    "\n",
    "#     # # add colorbars\n",
    "#     cbaxes_1 = fig9.add_axes([0.92, 0.636, 0.03, 0.244]) \n",
    "#     cbaxes_2 = fig9.add_axes([0.92, 0.381, 0.03, 0.244]) \n",
    "\n",
    "#     # position for the colorbar\n",
    "#     cb_1 = plt.colorbar(im, cax = cbaxes_1, label=r\"$P_2(x_1,x_2)$\")\n",
    "#     cb_2 = plt.colorbar(im2, cax = cbaxes_2, label=r\"$\\rm{Relative\\;Error}$\")\n",
    "    \n",
    "    # add colorbars\n",
    "    cbaxes_1 = fig9.add_axes([0.04, 0.3, 0.05, 0.25]) \n",
    "    cbaxes_2 = fig9.add_axes([0.15, 0.3, 0.05, 0.25]) \n",
    "\n",
    "    # position for the colorbar\n",
    "    cb_1 = plt.colorbar(im, cax = cbaxes_1)\n",
    "    cb_2 = plt.colorbar(im2, cax = cbaxes_2)\n",
    "    \n",
    "    cbaxes_1.annotate(r\"$P_2(x_1,x_2)$\",(0.25,0.5),xycoords=\"axes fraction\",color=\"w\", va='center', fontsize=6,rotation=90)\n",
    "    cbaxes_2.annotate(r\"Rel. Error\",(0.25,0.5),xycoords=\"axes fraction\",color=\"k\", va='center', fontsize=6,rotation=90)\n",
    "\n",
    "\n",
    "        \n",
    "# cbar.ax.set_ylabel('# of contacts', rotation=270)\n",
    "\n",
    "    fig9.savefig(\"../figures/joint_truncexpon_histogram_benchmark.pdf\", )\n"
   ]
  },
  {
   "cell_type": "code",
   "execution_count": null,
   "metadata": {},
   "outputs": [],
   "source": []
  }
 ],
 "metadata": {
  "kernelspec": {
   "display_name": "Python 3 (ipykernel)",
   "language": "python",
   "name": "python3"
  },
  "language_info": {
   "codemirror_mode": {
    "name": "ipython",
    "version": 3
   },
   "file_extension": ".py",
   "mimetype": "text/x-python",
   "name": "python",
   "nbconvert_exporter": "python",
   "pygments_lexer": "ipython3",
   "version": "3.9.6"
  }
 },
 "nbformat": 4,
 "nbformat_minor": 4
}
