{
 "cells": [
  {
   "cell_type": "markdown",
   "metadata": {},
   "source": [
    "## Plot KS-test results"
   ]
  },
  {
   "cell_type": "code",
   "execution_count": 1,
   "metadata": {},
   "outputs": [],
   "source": [
    "import numpy as np\n",
    "import matplotlib.pyplot as plt\n",
    "import scipy.integrate as integrate\n",
    "from scipy import stats\n",
    "from functools import partial"
   ]
  },
  {
   "cell_type": "code",
   "execution_count": 2,
   "metadata": {},
   "outputs": [],
   "source": [
    "colors = ['salmon','dodgerblue','mediumseagreen']\n",
    "colors = ['#FFA0A0','#1e90ff','#9370da']\n",
    "colors_light = ['#fecfcf','#8ec7fe','#c8b7ec']"
   ]
  },
  {
   "cell_type": "code",
   "execution_count": 3,
   "metadata": {},
   "outputs": [],
   "source": [
    "# Set parameters\n",
    "a,b,c = 0.1,1.5,-2.0"
   ]
  },
  {
   "cell_type": "code",
   "execution_count": 4,
   "metadata": {},
   "outputs": [],
   "source": [
    "# Load all data\n",
    "τ2_rejection_full_data = np.loadtxt(\"../data/%.6f_%.6f_%.6f_simpleTruncexpon_rejection.dat\"%(a,b,c))\n",
    "τ2_direct_full_data = np.loadtxt(\"../data/%.6f_%.6f_%.6f_simpleTruncexpon_direct.dat\"%(a,b,c))"
   ]
  },
  {
   "cell_type": "code",
   "execution_count": 5,
   "metadata": {},
   "outputs": [
    {
     "name": "stdout",
     "output_type": "stream",
     "text": [
      "There are a total of 1000000 samples in the full data set.\n"
     ]
    }
   ],
   "source": [
    "# Get total number of samples in data\n",
    "num_samples_data = τ2_rejection_full_data.shape[0]\n",
    "print(\"There are a total of %d samples in the full data set.\"%num_samples_data)"
   ]
  },
  {
   "cell_type": "code",
   "execution_count": 6,
   "metadata": {},
   "outputs": [
    {
     "name": "stdout",
     "output_type": "stream",
     "text": [
      "The 200000 first samples will be thrown away for equilibration.\n"
     ]
    }
   ],
   "source": [
    "# Set start index (i.e, how many samples will be thrownaway due to equilibration)\n",
    "equil_percent = 0.2\n",
    "start = int(num_samples_data*equil_percent)\n",
    "\n",
    "print(\"The %d first samples will be thrown away for equilibration.\"%start)"
   ]
  },
  {
   "cell_type": "code",
   "execution_count": 7,
   "metadata": {},
   "outputs": [
    {
     "name": "stdout",
     "output_type": "stream",
     "text": [
      "There are a total of 800000 samples left in the data set after equilibration.\n"
     ]
    }
   ],
   "source": [
    "# Set number of desired samples to use\n",
    "num_samples = num_samples_data-start\n",
    "\n",
    "print(\"There are a total of %d samples left in the data set after equilibration.\"%(num_samples))"
   ]
  },
  {
   "cell_type": "code",
   "execution_count": 8,
   "metadata": {},
   "outputs": [],
   "source": [
    "τ2_rejection = τ2_rejection_full_data[start:]\n",
    "τ2_direct = τ2_direct_full_data[start:]"
   ]
  },
  {
   "cell_type": "code",
   "execution_count": 9,
   "metadata": {},
   "outputs": [],
   "source": [
    "def P(τ,a,b,c):\n",
    "    Z = (np.exp(c*(b-a))-1)/c\n",
    "    return (1/Z)*np.exp(c*(τ-a));\n",
    "\n",
    "def cdf(τ,a,b,c):\n",
    "    Z = (np.exp(c*(b-a))-1)/c\n",
    "    return (np.exp(c*(τ-a))-1)/(c*Z)\n",
    "\n",
    "def P_times_tau(τ,a,b,c):\n",
    "    Z = (np.exp(c*(b-a))-1)/c\n",
    "    return τ*(1/Z)*np.exp(c*(τ-a));"
   ]
  },
  {
   "cell_type": "code",
   "execution_count": 10,
   "metadata": {},
   "outputs": [],
   "source": [
    "cdf_fixed = partial(cdf,a=a,b=b,c=c)"
   ]
  },
  {
   "cell_type": "code",
   "execution_count": 11,
   "metadata": {},
   "outputs": [],
   "source": [
    "# Compute kstest as a function of sample number\n",
    "num_samples_rejection = 100000\n",
    "num_samples_direct = 100000"
   ]
  },
  {
   "cell_type": "code",
   "execution_count": 12,
   "metadata": {},
   "outputs": [],
   "source": [
    "pvalues_rejection = np.zeros(num_samples_rejection)\n",
    "pvalues_direct = np.zeros(num_samples_direct)"
   ]
  },
  {
   "cell_type": "code",
   "execution_count": 13,
   "metadata": {},
   "outputs": [],
   "source": [
    "ksvalues_rejection = np.zeros(num_samples_rejection)\n",
    "ksvalues_direct = np.zeros(num_samples_direct)"
   ]
  },
  {
   "cell_type": "code",
   "execution_count": 14,
   "metadata": {},
   "outputs": [],
   "source": [
    "ksvalues_rejection = np.loadtxt(\"../processed_data/%.6f_%.6f_%.6f_simpleTruncexpon_rejection_ksTest.dat\"%(a,b,c))[:,0]\n",
    "ksvalues_direct = np.loadtxt(\"../processed_data/%.6f_%.6f_%.6f_simpleTruncexpon_direct_ksTest.dat\"%(a,b,c))[:,0] "
   ]
  },
  {
   "cell_type": "code",
   "execution_count": 17,
   "metadata": {},
   "outputs": [
    {
     "data": {
      "image/png": "[encoded data removed]",
      "text/plain": [
       "<Figure size 221.976x137.16 with 1 Axes>"
      ]
     },
     "metadata": {
      "needs_background": "light"
     },
     "output_type": "display_data"
    }
   ],
   "source": [
    "with plt.style.context('../IOP_large.mplstyle'):\n",
    "\n",
    "    fig,ax = plt.subplots(constrained_layout=True)\n",
    "\n",
    "    ax.set_yscale(\"log\")\n",
    "\n",
    "    ax.plot(range(num_samples_rejection),ksvalues_rejection,label='Rejection', color=colors[0])\n",
    "    ax.plot(range(num_samples_direct),ksvalues_direct,label='Direct', color=colors[1])\n",
    "    ax.axhline(0.0,color=\"#aaaaaa\",zorder=-10)\n",
    "    ax.set_ylabel(\"KS-distance\")\n",
    "    ax.set_xlim(-2000,100000-1)\n",
    "    ax.set_ylim(0.002,1.5)\n",
    "    ax.set_xlabel(\"number of samples\")\n",
    "\n",
    "    ax.annotate(r\"$a,b,c = %.1f$,$%.1f$,$%.1f$\"%(a,b,-c),(0.99,0.60),\n",
    "                    xycoords='axes fraction', ha='right')\n",
    "\n",
    "    ax.legend(loc='upper right',handlelength=1, handletextpad=0.5)\n",
    "\n",
    "    plt.savefig(\"../figures/%.6f_%.6f_%.6f_simpleTruncexpon_ksTest.pdf\"%(a,b,c))\n",
    "    plt.savefig(\"../figures/%.6f_%.6f_%.6f_simpleTruncexpon_ksTest.svg\"%(a,b,c))"
   ]
  },
  {
   "cell_type": "markdown",
   "metadata": {},
   "source": [
    "### Perform KS-test"
   ]
  },
  {
   "cell_type": "markdown",
   "metadata": {},
   "source": [
    "NOTE: This will take a long time. The results have been saved to file in the processed_data directory for quick plotting."
   ]
  },
  {
   "cell_type": "code",
   "execution_count": null,
   "metadata": {},
   "outputs": [],
   "source": [
    "%%time\n",
    "for i in range(num_samples_rejection):\n",
    "    if i%10000==0: print(\"%d/%d\"%(i,num_samples_rejection))\n",
    "    \n",
    "    ksvalues_rejection[i],pvalues_rejection[i] = stats.kstest(τ2_rejection[:i+1],cdf_fixed)\n",
    "\n",
    "    ksvalues_direct[i],pvalues_direct[i] = stats.kstest(τ2_direct[:i+1],cdf_fixed)\n",
    "    "
   ]
  },
  {
   "cell_type": "code",
   "execution_count": 18,
   "metadata": {},
   "outputs": [
    {
     "data": {
      "text/plain": [
       "KstestResult(statistic=0.39260114216210185, pvalue=2.1164736531609455e-14)"
      ]
     },
     "execution_count": 18,
     "metadata": {},
     "output_type": "execute_result"
    }
   ],
   "source": [
    "stats.kstest(τ2_rejection[:100],cdf_fixed)"
   ]
  },
  {
   "cell_type": "code",
   "execution_count": null,
   "metadata": {},
   "outputs": [],
   "source": [
    "# Write sample number, KS-statistic and p values to file\n",
    "filename_rejection = \"../processed_data/%.6f_%.6f_%.6f_simpleTruncexpon_rejection_ksTest.dat\"%(a,b,c)\n",
    "file_rejection = open(filename_rejection,\"w\")\n",
    "header = \"# ks-value      p-value \\n\"\n",
    "file_rejection.write(header)\n",
    "for i,ks in enumerate(ksvalues_rejection):\n",
    "    file_rejection.write(\"%.12f %.12f \\n\"%(ksvalues_rejection[i],pvalues_rejection[i]))\n",
    "\n",
    "filename_direct = \"../processed_data/%.6f_%.6f_%.6f_simpleTruncexpon_direct_ksTest.dat\"%(a,b,c)\n",
    "file_direct = open(filename_direct,\"w\")\n",
    "header = \"# ks-value      p-value \\n\"\n",
    "file_direct.write(header)\n",
    "for i,ks in enumerate(ksvalues_direct):\n",
    "    file_direct.write(\"%.12f %.12f \\n\"%(ksvalues_direct[i],pvalues_direct[i]))\n",
    "    \n",
    "file_rejection.close()\n",
    "file_direct.close()"
   ]
  }
 ],
 "metadata": {
  "kernelspec": {
   "display_name": "Python 3 (ipykernel)",
   "language": "python",
   "name": "python3"
  },
  "language_info": {
   "codemirror_mode": {
    "name": "ipython",
    "version": 3
   },
   "file_extension": ".py",
   "mimetype": "text/x-python",
   "name": "python",
   "nbconvert_exporter": "python",
   "pygments_lexer": "ipython3",
   "version": "3.9.6"
  }
 },
 "nbformat": 4,
 "nbformat_minor": 4
}
