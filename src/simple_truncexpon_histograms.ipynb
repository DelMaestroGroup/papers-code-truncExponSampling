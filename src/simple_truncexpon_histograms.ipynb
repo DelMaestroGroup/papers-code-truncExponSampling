{
 "cells": [
  {
   "cell_type": "code",
   "execution_count": 1,
   "metadata": {},
   "outputs": [],
   "source": [
    "import numpy as np\n",
    "import matplotlib.pyplot as plt\n",
    "import scipy.integrate as integrate\n",
    "from scipy import stats\n",
    "from functools import partial"
   ]
  },
  {
   "cell_type": "code",
   "execution_count": 2,
   "metadata": {},
   "outputs": [],
   "source": [
    "# Set parameters\n",
    "a,b,c = 0.1,1.5,-2.0"
   ]
  },
  {
   "cell_type": "code",
   "execution_count": 3,
   "metadata": {},
   "outputs": [],
   "source": [
    "# Load all data\n",
    "τ2_rejection_full_data = np.loadtxt(\"../data/%.6f_%.6f_%.6f_simpleTruncexpon_rejection.dat\"%(a,b,c))\n",
    "τ2_direct_full_data = np.loadtxt(\"../data/%.6f_%.6f_%.6f_simpleTruncexpon_direct.dat\"%(a,b,c))"
   ]
  },
  {
   "cell_type": "code",
   "execution_count": 4,
   "metadata": {},
   "outputs": [
    {
     "name": "stdout",
     "output_type": "stream",
     "text": [
      "There are a total of 1000000 samples in the full data set.\n"
     ]
    }
   ],
   "source": [
    "# Get total number of samples in data\n",
    "num_samples_data = τ2_rejection_full_data.shape[0]\n",
    "print(\"There are a total of %d samples in the full data set.\"%num_samples_data)"
   ]
  },
  {
   "cell_type": "code",
   "execution_count": 5,
   "metadata": {},
   "outputs": [
    {
     "name": "stdout",
     "output_type": "stream",
     "text": [
      "The 200000 first samples will be thrown away for equilibration.\n"
     ]
    }
   ],
   "source": [
    "# Set start index (i.e, how many samples will be thrownaway due to equilibration)\n",
    "equil_percent = 0.2\n",
    "start = int(num_samples_data*equil_percent)\n",
    "\n",
    "print(\"The %d first samples will be thrown away for equilibration.\"%start)"
   ]
  },
  {
   "cell_type": "code",
   "execution_count": 6,
   "metadata": {},
   "outputs": [
    {
     "name": "stdout",
     "output_type": "stream",
     "text": [
      "There are a total of 800000 samples left in the data set after equilibration.\n"
     ]
    }
   ],
   "source": [
    "# Set number of desired samples to use\n",
    "num_samples = num_samples_data-start\n",
    "\n",
    "print(\"There are a total of %d samples left in the data set after equilibration.\"%(num_samples))"
   ]
  },
  {
   "cell_type": "code",
   "execution_count": 7,
   "metadata": {},
   "outputs": [],
   "source": [
    "τ2_rejection = τ2_rejection_full_data[start:]\n",
    "τ2_direct = τ2_direct_full_data[start:]"
   ]
  },
  {
   "cell_type": "code",
   "execution_count": 8,
   "metadata": {},
   "outputs": [],
   "source": [
    "def P(τ,a,b,c):\n",
    "    Z = (np.exp(c*(b-a))-1)/c\n",
    "    return (1/Z)*np.exp(c*(τ-a));\n",
    "\n",
    "def cdf(τ,a,b,c):\n",
    "    Z = (np.exp(c*(b-a))-1)/c\n",
    "    return (np.exp(c*(τ-a))-1)/(c*Z)\n",
    "\n",
    "def P_times_tau(τ,a,b,c):\n",
    "    Z = (np.exp(c*(b-a))-1)/c\n",
    "    return τ*(1/Z)*np.exp(c*(τ-a));"
   ]
  },
  {
   "cell_type": "code",
   "execution_count": 9,
   "metadata": {},
   "outputs": [],
   "source": [
    "cdf_fixed = partial(cdf,a=a,b=b,c=c)"
   ]
  },
  {
   "cell_type": "code",
   "execution_count": 10,
   "metadata": {},
   "outputs": [],
   "source": [
    "τ_fit = np.linspace(a,b,1000)"
   ]
  },
  {
   "cell_type": "markdown",
   "metadata": {},
   "source": [
    "### Compute average time from exact and sampled distributions"
   ]
  },
  {
   "cell_type": "code",
   "execution_count": 11,
   "metadata": {},
   "outputs": [
    {
     "name": "stdout",
     "output_type": "stream",
     "text": [
      "Average time (exact):  (0.5093537054780725, 5.654962114998968e-15)\n"
     ]
    }
   ],
   "source": [
    "# Compute \"exact\" average of time\n",
    "τ_mean_exact = integrate.quad(P_times_tau,a,b,args=(a,b,c))\n",
    "print(\"Average time (exact): \",τ_mean_exact)"
   ]
  },
  {
   "cell_type": "code",
   "execution_count": 12,
   "metadata": {},
   "outputs": [
    {
     "name": "stdout",
     "output_type": "stream",
     "text": [
      "Average sampled time with rejection:  0.5082187425969835\n"
     ]
    }
   ],
   "source": [
    "# Compute average time from histogram\n",
    "τ2_counts, τ2_edges = np.histogram(τ2_rejection,bins=1000)\n",
    "τ2_probs = np.divide(τ2_counts,np.sum(τ2_counts))\n",
    "\n",
    "τ_mean_rejection = np.sum(τ2_probs*τ2_edges[:-1])\n",
    "print(\"Average sampled time with rejection: \",τ_mean_rejection)"
   ]
  },
  {
   "cell_type": "code",
   "execution_count": 13,
   "metadata": {},
   "outputs": [
    {
     "name": "stdout",
     "output_type": "stream",
     "text": [
      "Average sampled time with direct:  0.5079243385958052\n"
     ]
    }
   ],
   "source": [
    "# Compute average time from histogram\n",
    "τ2_counts, τ2_edges = np.histogram(τ2_direct,bins=1000)\n",
    "τ2_probs = np.divide(τ2_counts,np.sum(τ2_counts))\n",
    "\n",
    "τ_mean_direct = np.sum(τ2_probs*τ2_edges[:-1])\n",
    "print(\"Average sampled time with direct: \",np.sum(τ2_probs*τ2_edges[:-1]))"
   ]
  },
  {
   "cell_type": "code",
   "execution_count": 14,
   "metadata": {},
   "outputs": [
    {
     "name": "stdout",
     "output_type": "stream",
     "text": [
      "Rejection Error: 0.002228\n",
      "Direct Error: 0.002806\n"
     ]
    }
   ],
   "source": [
    "rejection_error = np.abs((τ_mean_exact - τ_mean_rejection) / τ_mean_exact)[0]\n",
    "direct_error = np.abs((τ_mean_exact - τ_mean_direct) / τ_mean_exact)[0]\n",
    "\n",
    "print(\"Rejection Error: %.6f\"%(rejection_error))\n",
    "print(\"Direct Error: %.6f\"%(direct_error))"
   ]
  },
  {
   "cell_type": "markdown",
   "metadata": {},
   "source": [
    "### Rejection vs Direct sampling $\\tau$ from simple exponential distribution"
   ]
  },
  {
   "cell_type": "code",
   "execution_count": 15,
   "metadata": {},
   "outputs": [],
   "source": [
    "colors = ['salmon','dodgerblue','mediumseagreen']\n",
    "colors = ['#FFA0A0','#1e90ff','#9370da']\n",
    "colors_light = ['#fecfcf','#8ec7fe','#c8b7ec']"
   ]
  },
  {
   "cell_type": "code",
   "execution_count": 17,
   "metadata": {},
   "outputs": [
    {
     "data": {
      "image/png": "[encoded data removed]",
      "text/plain": [
       "<Figure size 308.3x361.95 with 2 Axes>"
      ]
     },
     "metadata": {
      "needs_background": "light"
     },
     "output_type": "display_data"
    }
   ],
   "source": [
    "with plt.style.context('../IOP_large.mplstyle'):\n",
    "\n",
    "    fig,ax = plt.subplots(2,1, dpi=100,sharey=True,constrained_layout=True, sharex=True,figsize=[3.083,1.9*1.905]);\n",
    "    \n",
    "    num_bins = 100\n",
    "\n",
    "    # Plot\n",
    "    kwargs = dict(hist_kws={'alpha':.6}, kde_kws={'linewidth':2})\n",
    "\n",
    "    ax[0].plot(τ_fit,P(τ_fit,a,b,c),color=colors[0],alpha=1.0)\n",
    "    ax[0].hist(τ2_rejection, density=True, bins=num_bins,label=r'$\\rm{Rejection}$',color=colors_light[0], edgecolor='w', lw=0.01)  # density=False would make counts\n",
    "    ax[0].set_ylabel(r'$P_1(x)$');\n",
    "    ax[0].annotate(r\"Rejection\",(0.99,0.92),\n",
    "                    xycoords='axes fraction', ha='right')\n",
    "    ax[0].annotate(r\"$a,b,c = %.1f$,$%.1f$,$%.1f$\"%(a,b,-c),(0.99,0.7),\n",
    "                    xycoords='axes fraction', ha='right')\n",
    "    ax[0].annotate(r\"$\\rm{Samples: %d}$\"%num_samples,(0.99,0.6),\n",
    "                    xycoords='axes fraction', ha='right')\n",
    "    ax[0].annotate(r\"$\\rm{Bins: %d}$\"%num_bins,(0.99,0.5),\n",
    "                    xycoords='axes fraction', ha='right')\n",
    "\n",
    "    ax[1].plot(τ_fit,P(τ_fit,a,b,c),color=colors[1],alpha=1.0)\n",
    "    ax[1].hist(τ2_direct, density=True, bins=num_bins,label=r'$\\rm{Direct}$',color=colors_light[1], edgecolor='w', lw=0.01);  # density=False would make counts\n",
    "    ax[1].set_ylabel(r'$P_1(x)$');\n",
    "    ax[1].set_xlabel(r'$x$');\n",
    "    ax[1].annotate(r\"Direct\",(0.99,0.92),\n",
    "                    xycoords='axes fraction', ha='right')\n",
    "\n",
    "    plt.savefig(\"../figures/simple_truncexpon_histogram_benchmark.pdf\")\n",
    "    plt.savefig(\"../figures/simple_truncexpon_histogram_benchmark.svg\")"
   ]
  },
  {
   "cell_type": "code",
   "execution_count": 17,
   "metadata": {},
   "outputs": [
    {
     "data": {
      "text/plain": [
       "(0.9999999999999998, 1.1102230246251562e-14)"
      ]
     },
     "execution_count": 17,
     "metadata": {},
     "output_type": "execute_result"
    }
   ],
   "source": [
    "# Check normalization\n",
    "integrate.quad(P,a,b,args=(a,b,c))"
   ]
  },
  {
   "cell_type": "code",
   "execution_count": null,
   "metadata": {},
   "outputs": [],
   "source": []
  }
 ],
 "metadata": {
  "kernelspec": {
   "display_name": "Python 3 (ipykernel)",
   "language": "python",
   "name": "python3"
  },
  "language_info": {
   "codemirror_mode": {
    "name": "ipython",
    "version": 3
   },
   "file_extension": ".py",
   "mimetype": "text/x-python",
   "name": "python",
   "nbconvert_exporter": "python",
   "pygments_lexer": "ipython3",
   "version": "3.9.6"
  }
 },
 "nbformat": 4,
 "nbformat_minor": 4
}
