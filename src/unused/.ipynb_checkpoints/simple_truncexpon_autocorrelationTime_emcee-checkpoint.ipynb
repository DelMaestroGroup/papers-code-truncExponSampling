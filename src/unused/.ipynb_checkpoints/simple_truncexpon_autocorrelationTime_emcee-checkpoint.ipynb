{
 "cells": [
  {
   "cell_type": "markdown",
   "metadata": {},
   "source": [
    "### Computing autocorrelation time"
   ]
  },
  {
   "cell_type": "code",
   "execution_count": 32,
   "metadata": {},
   "outputs": [],
   "source": [
    "import numpy as np\n",
    "import matplotlib.pyplot as plt\n",
    "from scipy.optimize import curve_fit\n",
    "import importlib\n",
    "import emcee"
   ]
  },
  {
   "cell_type": "code",
   "execution_count": 41,
   "metadata": {},
   "outputs": [],
   "source": [
    "# Set parameters\n",
    "a,b,c = 0.1,1.5,-2.0"
   ]
  },
  {
   "cell_type": "code",
   "execution_count": 42,
   "metadata": {},
   "outputs": [],
   "source": [
    "# Load correlated Monte Carlo data\n",
    "data_correlated_rejection = np.loadtxt(\"../data/%.6f_%.6f_%.6f_simpleTruncexpon_rejection.dat\"%(a,b,c))\n",
    "data_correlated_direct = np.loadtxt(\"../data/%.6f_%.6f_%.6f_simpleTruncexpon_direct.dat\"%(a,b,c))\n",
    "\n",
    "MC_steps = np.arange(data_correlated_rejection.shape[0])"
   ]
  },
  {
   "cell_type": "code",
   "execution_count": 43,
   "metadata": {},
   "outputs": [
    {
     "name": "stdout",
     "output_type": "stream",
     "text": [
      "There are a total of 1000000 samples in the full data set.\n"
     ]
    }
   ],
   "source": [
    "# Get total number of samples in data\n",
    "num_samples_data = data_correlated_rejection.shape[0]\n",
    "print(\"There are a total of %d samples in the full data set.\"%num_samples_data)"
   ]
  },
  {
   "cell_type": "code",
   "execution_count": 44,
   "metadata": {},
   "outputs": [
    {
     "name": "stdout",
     "output_type": "stream",
     "text": [
      "The 200000 first samples will be thrown away for equilibration.\n"
     ]
    }
   ],
   "source": [
    "# Set start index (i.e, how many samples will be thrownaway due to equilibration)\n",
    "equil_percent = 0.2\n",
    "start = int(num_samples_data*equil_percent)\n",
    "\n",
    "print(\"The %d first samples will be thrown away for equilibration.\"%start)"
   ]
  },
  {
   "cell_type": "code",
   "execution_count": 45,
   "metadata": {},
   "outputs": [],
   "source": [
    "x2_simple_rejection = data_correlated_rejection[start:]\n",
    "x2_simple_direct = data_correlated_direct[start:]"
   ]
  },
  {
   "cell_type": "markdown",
   "metadata": {},
   "source": [
    "#### As part of our computation of the integrated autocorrelation time, we will need to compute the normalized autocorrelation function:\n",
    "\n",
    "$$ \\rho(t) = \\frac{c(t)}{c(0)} = \\frac{\\frac{1}{N-t}\\sum_{i=1}^{N-t}{X_{i}X_{i+t}-{\\left\\langle{X}\\right\\rangle^2}}}{\\left\\langle{X^2}\\right\\rangle-{\\left\\langle{X}\\right\\rangle^2}} \\sim e^{-\\frac{t}{\\tau_\\mathrm{exp}}} $$"
   ]
  },
  {
   "cell_type": "code",
   "execution_count": 46,
   "metadata": {},
   "outputs": [],
   "source": [
    "# Fit autocorrelation to exponential form for all time separations\n",
    "τ_rejection = emcee.autocorr.integrated_time(x2_simple_rejection)\n",
    "τ_direct = emcee.autocorr.integrated_time(x2_simple_direct)"
   ]
  },
  {
   "cell_type": "markdown",
   "metadata": {},
   "source": [
    "#### The integrated autocorrelation is obtained by summing the autocorrelation function over all possible time separations:\n",
    "\n",
    "$$ \\tau_\\mathrm{int}=\\sum_t \\frac{C(t)}{C(0)}$$"
   ]
  },
  {
   "cell_type": "markdown",
   "metadata": {},
   "source": [
    "#### We can obtain the autocorrelation time from a fitting of: $$Ae^{-t/\\tau_{exp}}$$"
   ]
  },
  {
   "cell_type": "code",
   "execution_count": 47,
   "metadata": {},
   "outputs": [
    {
     "name": "stdout",
     "output_type": "stream",
     "text": [
      "τ_rejection: [4.9652366]\n",
      "τ_direct: [0.99732843]\n"
     ]
    }
   ],
   "source": [
    "print(\"τ_rejection: {}\".format(τ_rejection)) # from fitting\n",
    "print(\"τ_direct: {}\".format(τ_direct)) # from fitting\n",
    "\n",
    "# print(\"τ_auto_int: {}\".format(autocorrelation_time_int)) # from using estimate\n",
    "# print(\"τ_exact: {}\".format(autocorrelation_time))"
   ]
  },
  {
   "cell_type": "code",
   "execution_count": 48,
   "metadata": {},
   "outputs": [
    {
     "data": {
      "text/plain": [
       "array([4.9785371])"
      ]
     },
     "execution_count": 48,
     "metadata": {},
     "output_type": "execute_result"
    }
   ],
   "source": [
    "τ_rejection/τ_direct"
   ]
  },
  {
   "cell_type": "code",
   "execution_count": null,
   "metadata": {},
   "outputs": [],
   "source": []
  },
  {
   "cell_type": "code",
   "execution_count": null,
   "metadata": {},
   "outputs": [],
   "source": []
  },
  {
   "cell_type": "code",
   "execution_count": null,
   "metadata": {},
   "outputs": [],
   "source": []
  },
  {
   "cell_type": "code",
   "execution_count": null,
   "metadata": {},
   "outputs": [],
   "source": []
  }
 ],
 "metadata": {
  "kernelspec": {
   "display_name": "Python 3 (ipykernel)",
   "language": "python",
   "name": "python3"
  },
  "language_info": {
   "codemirror_mode": {
    "name": "ipython",
    "version": 3
   },
   "file_extension": ".py",
   "mimetype": "text/x-python",
   "name": "python",
   "nbconvert_exporter": "python",
   "pygments_lexer": "ipython3",
   "version": "3.8.10"
  }
 },
 "nbformat": 4,
 "nbformat_minor": 4
}
