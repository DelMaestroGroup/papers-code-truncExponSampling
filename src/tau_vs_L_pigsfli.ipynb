{
 "cells": [
  {
   "cell_type": "code",
   "execution_count": 10,
   "metadata": {},
   "outputs": [],
   "source": [
    "import numpy as np\n",
    "import matplotlib.pyplot as plt"
   ]
  },
  {
   "cell_type": "code",
   "execution_count": 11,
   "metadata": {},
   "outputs": [],
   "source": [
    "colors = ['salmon','dodgerblue','mediumseagreen']\n",
    "colors = ['#FFA0A0','#1e90ff','#3cb371']\n",
    "colors_light = ['#FFEDED','#6BDDFF','#89FFBE']"
   ]
  },
  {
   "cell_type": "code",
   "execution_count": 12,
   "metadata": {},
   "outputs": [
    {
     "name": "stdout",
     "output_type": "stream",
     "text": [
      "#L=4, N=4, l=2, U/t=3.300000, beta=2.000000, num_replicas=1 \n",
      "# L    tau_K         tau_K_err          tau_V          tau_V_err \n",
      "4 421.37500000 7.26687410 426.51500000 8.44951302\n",
      "8 461.97500000 9.94381057 476.89000000 10.38688483\n",
      "16 542.67000000 8.89383534 569.17500000 10.33637388\n",
      "32 634.01000000 12.04358707 680.08500000 15.62443772\n",
      "64 713.26000000 13.99411262 732.13000000 16.25571304\n"
     ]
    }
   ],
   "source": [
    "!head ../processed_data/1D_L_N_l_3.300000_1.000000_beta_1_energies_square_autocorrs_truncated.dat"
   ]
  },
  {
   "cell_type": "code",
   "execution_count": 13,
   "metadata": {},
   "outputs": [],
   "source": [
    "Ls_truncated = np.loadtxt(\"../processed_data/1D_L_N_l_3.300000_1.000000_beta_1_energies_square_autocorrs_truncated.dat\")[:,0]\n",
    "tau_kinetic_truncated = np.loadtxt(\"../processed_data/1D_L_N_l_3.300000_1.000000_beta_1_energies_square_autocorrs_truncated.dat\")[:,1]\n",
    "tau_kineticErr_truncated = np.loadtxt(\"../processed_data/1D_L_N_l_3.300000_1.000000_beta_1_energies_square_autocorrs_truncated.dat\")[:,2]\n",
    "\n",
    "Ls_uniform = np.loadtxt(\"../processed_data/1D_L_N_l_3.300000_1.000000_beta_1_energies_square_autocorrs_uniform.dat\")[:,0]\n",
    "tau_kinetic_uniform = np.loadtxt(\"../processed_data/1D_L_N_l_3.300000_1.000000_beta_1_energies_square_autocorrs_uniform.dat\")[:,1]\n",
    "tau_kineticErr_uniform = np.loadtxt(\"../processed_data/1D_L_N_l_3.300000_1.000000_beta_1_energies_square_autocorrs_uniform.dat\")[:,2]"
   ]
  },
  {
   "cell_type": "code",
   "execution_count": 14,
   "metadata": {},
   "outputs": [],
   "source": [
    "tau_potential_truncated = np.loadtxt(\"../processed_data/1D_L_N_l_3.300000_1.000000_beta_1_energies_square_autocorrs_truncated.dat\")[:,3]\n",
    "tau_potentialErr_truncated = np.loadtxt(\"../processed_data/1D_L_N_l_3.300000_1.000000_beta_1_energies_square_autocorrs_truncated.dat\")[:,4]\n",
    "\n",
    "tau_potential_uniform = np.loadtxt(\"../processed_data/1D_L_N_l_3.300000_1.000000_beta_1_energies_square_autocorrs_uniform.dat\")[:,3]\n",
    "tau_potentialErr_uniform = np.loadtxt(\"../processed_data/1D_L_N_l_3.300000_1.000000_beta_1_energies_square_autocorrs_uniform.dat\")[:,4]"
   ]
  },
  {
   "cell_type": "code",
   "execution_count": 15,
   "metadata": {},
   "outputs": [
    {
     "data": {
      "image/png": "[encoded data removed]",
      "text/plain": [
       "<Figure size 583.711x412.289 with 4 Axes>"
      ]
     },
     "metadata": {
      "needs_background": "light"
     },
     "output_type": "display_data"
    }
   ],
   "source": [
    "with plt.style.context('../IOP_large.mplstyle3'):\n",
    "\n",
    "    # Kinetic energies subplot\n",
    "    fig, ax = plt.subplots(1,2,sharey=True,sharex=True)\n",
    "    plt.subplots_adjust(wspace=0.02)\n",
    "\n",
    "    ax[0].set_xscale(\"log\",base=2)\n",
    "    # ax[0].set_yscale(\"log\",base=2)\n",
    "\n",
    "    # plt.yscale(\"log\",basey=2)\n",
    "\n",
    "    ax[0].errorbar(Ls_uniform,tau_kinetic_uniform,tau_kineticErr_uniform, fmt='.', \n",
    "                 capsize=5,label=\"Uniform\",color=colors[0],\n",
    "                 mfc=colors_light[0],zorder=1)\n",
    "    ax[0].errorbar(Ls_truncated,tau_kinetic_truncated,tau_kineticErr_truncated, fmt='.', \n",
    "                 capsize=5,label=\"Truncated\",color=colors[1],\n",
    "                 mfc=colors_light[1],zorder=1)\n",
    "    ax[0].tick_params(direction='in')\n",
    "    ax[0].set_ylabel(r\"$\\tau$\")\n",
    "    ax[0].set_xlabel(r\"$L$\")\n",
    "    ax[0].tick_params(direction='in')\n",
    "    ax[0].annotate(r\"$\\rm{Kinetic}$\",(0.05,0.60),xycoords=\"axes fraction\",fontsize=10)\n",
    "    ax[0].annotate(r\"$\\frac{U}{t} = 3.3$\",(0.05,0.50),xycoords=\"axes fraction\")\n",
    "    ax[0].annotate(r\"$\\beta=L/2$\",(0.05,0.40),xycoords=\"axes fraction\")\n",
    "    ax[0].legend(frameon=False,loc=(0.55,0.00))\n",
    "\n",
    "\n",
    "    ax[1].errorbar(Ls_uniform,tau_potential_uniform,tau_potentialErr_uniform, fmt='.', \n",
    "                 capsize=5,label=\"uniform\",color=colors[0],\n",
    "                 mfc=colors_light[0],zorder=1)\n",
    "    ax[1].errorbar(Ls_truncated,tau_potential_truncated,tau_potentialErr_truncated, fmt='.', \n",
    "                 capsize=5,label=\"truncated\",color=colors[1],\n",
    "                 mfc=colors_light[1],zorder=1)\n",
    "    ax[1].set_xlabel(r\"$L$\")\n",
    "    ax[1].tick_params(direction='in')\n",
    "    ax[1].annotate(r\"$\\rm{Potential}$\",(0.05,0.60),xycoords=\"axes fraction\",fontsize=10)\n",
    "\n",
    "    # Insets kinetic energy\n",
    "    left,bottom,width,height = [0.222,0.687,0.19,0.19*.9]\n",
    "    ax2 = fig.add_axes([left,bottom,width,height])\n",
    "\n",
    "    f = np.abs(tau_kinetic_uniform/tau_potential_truncated)\n",
    "\n",
    "    A = tau_kinetic_uniform\n",
    "    σ_A = tau_kineticErr_uniform\n",
    "\n",
    "    B = tau_kinetic_truncated\n",
    "    σ_B = tau_kineticErr_truncated\n",
    "\n",
    "    σ_f = np.abs(f)*np.sqrt((σ_A/A)**2 + (σ_B/B)**2)\n",
    "\n",
    "    ax2.errorbar(Ls_uniform,A/B,σ_f, fmt='.', \n",
    "                 capsize=5,label=\"Uniform\",color=\"mediumpurple\",\n",
    "                 mfc=\"thistle\",zorder=1)\n",
    "\n",
    "    ax2.tick_params(direction='in')\n",
    "    ax2.set_ylabel(r\"$\\tau^{\\rm{Uniform}}/\\tau^{\\rm{Truncated}}$\")\n",
    "    ax2.set_xlabel(r\"$L$\")\n",
    "\n",
    "    # Inset potential energy\n",
    "    left,bottom,width,height = [0.624,0.687,0.19,0.19*.9]\n",
    "    ax3 = fig.add_axes([left,bottom,width,height])\n",
    "\n",
    "    f = np.abs(tau_potential_truncated/tau_potential_uniform)\n",
    "\n",
    "    f = np.abs(tau_potential_uniform/tau_potential_truncated)\n",
    "\n",
    "    A = tau_potential_uniform\n",
    "    σ_A = tau_potentialErr_uniform\n",
    "\n",
    "    B = tau_potential_truncated\n",
    "    σ_B = tau_potentialErr_truncated\n",
    "\n",
    "    σ_f = np.abs(f)*np.sqrt((σ_A/A)**2 + (σ_B/B)**2)\n",
    "\n",
    "    ax3.errorbar(Ls_uniform,A/B,σ_f, fmt='.', \n",
    "                 capsize=5,label=\"uniform\",color=\"mediumpurple\",\n",
    "                 mfc=\"thistle\",zorder=1)\n",
    "\n",
    "    ax3.tick_params(direction='in')\n",
    "    ax3.set_ylabel(r\"$\\tau^{\\rm{Uniform}}/\\tau^{\\rm{Truncated}}$\")\n",
    "    ax3.set_xlabel(r\"$L$\")\n",
    "    \n",
    "    plt.savefig(\"../figures/pigsfli_tau_vs_L_critical.pdf\",dpi=300)\n",
    "    plt.savefig(\"/Users/ecasiano/Desktop/papers-truncExponSampling/figures/pigsfli_tau_vs_L_critical.pdf\",dpi=300)"
   ]
  },
  {
   "cell_type": "code",
   "execution_count": null,
   "metadata": {},
   "outputs": [],
   "source": []
  },
  {
   "cell_type": "code",
   "execution_count": null,
   "metadata": {},
   "outputs": [],
   "source": []
  },
  {
   "cell_type": "code",
   "execution_count": null,
   "metadata": {},
   "outputs": [],
   "source": []
  },
  {
   "cell_type": "code",
   "execution_count": null,
   "metadata": {},
   "outputs": [],
   "source": []
  }
 ],
 "metadata": {
  "kernelspec": {
   "display_name": "Python 3",
   "language": "python",
   "name": "python3"
  },
  "language_info": {
   "codemirror_mode": {
    "name": "ipython",
    "version": 3
   },
   "file_extension": ".py",
   "mimetype": "text/x-python",
   "name": "python",
   "nbconvert_exporter": "python",
   "pygments_lexer": "ipython3",
   "version": "3.8.5"
  }
 },
 "nbformat": 4,
 "nbformat_minor": 4
}
