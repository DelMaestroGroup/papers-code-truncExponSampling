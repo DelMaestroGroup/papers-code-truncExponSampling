{
 "cells": [
  {
   "cell_type": "code",
   "execution_count": 2,
   "metadata": {},
   "outputs": [],
   "source": [
    "import numpy as np\n",
    "import matplotlib.pyplot as plt"
   ]
  },
  {
   "cell_type": "code",
   "execution_count": 3,
   "metadata": {},
   "outputs": [],
   "source": [
    "colors = ['salmon','dodgerblue','mediumseagreen']\n",
    "colors = ['#FFA0A0','#1e90ff','#3cb371']\n",
    "colors_light = ['#FFEDED','#6BDDFF','#89FFBE']"
   ]
  },
  {
   "cell_type": "code",
   "execution_count": 4,
   "metadata": {},
   "outputs": [
    {
     "name": "stdout",
     "output_type": "stream",
     "text": [
      "# Wall times to collect 1 million samples for a 1D Bose-Hubbard lattice of size L=N=12 at U/t=3.3 & beta=16 in pigsfli\n",
      "# Uniform sampling (seconds)     Truncated Exponential sampling (seconds)\n",
      "5723.7     5747.37\n",
      "5660.19    5760.47\n",
      "5740.56    5848.61\n",
      "5615.88    5832.48\n",
      "5755.12    5671.14\n",
      "5718.25    5867.44 \n",
      "5816.29    5809.58\n",
      "5824.39    5861.17\n"
     ]
    }
   ],
   "source": [
    "!head ../processed_data/wall_times_L12N12_U3.3.dat"
   ]
  },
  {
   "cell_type": "code",
   "execution_count": 5,
   "metadata": {},
   "outputs": [],
   "source": [
    "wall_time_uniform = np.loadtxt(\"../processed_data/wall_times_L12N12_U3.3.dat\")[:,0]\n",
    "wall_time_truncated = np.loadtxt(\"../processed_data/wall_times_L12N12_U3.3.dat\")[:,1]"
   ]
  },
  {
   "cell_type": "code",
   "execution_count": 6,
   "metadata": {},
   "outputs": [],
   "source": [
    "num_samples = wall_time_uniform.shape[0]"
   ]
  },
  {
   "cell_type": "code",
   "execution_count": 7,
   "metadata": {},
   "outputs": [],
   "source": [
    "wall_time_uniform_err = np.std(wall_time_uniform)/np.sqrt(num_samples)\n",
    "wall_time_truncated_err = np.std(wall_time_truncated)/np.sqrt(num_samples)"
   ]
  },
  {
   "cell_type": "code",
   "execution_count": 8,
   "metadata": {},
   "outputs": [],
   "source": [
    "A = wall_time_uniform\n",
    "σ_A = wall_time_uniform_err\n",
    "\n",
    "B = wall_time_truncated\n",
    "σ_B = wall_time_truncated_err\n",
    "\n",
    "f = np.abs(A/B)\n",
    "\n",
    "# σ_f = np.abs(f)*np.sqrt((σ_A/A)**2 + (σ_B/B)**2)\n",
    "\n",
    "f_mean = np.mean(f)\n",
    "σ_f = np.std(f)/np.sqrt(num_samples)"
   ]
  },
  {
   "cell_type": "code",
   "execution_count": 9,
   "metadata": {},
   "outputs": [
    {
     "name": "stdout",
     "output_type": "stream",
     "text": [
      "t_uni / t_trunc = 0.98 +/- 0.01\n"
     ]
    }
   ],
   "source": [
    "print(\"t_uni / t_trunc = %.2f +/- %.2f\"%(f_mean,σ_f))"
   ]
  },
  {
   "cell_type": "code",
   "execution_count": 49,
   "metadata": {},
   "outputs": [
    {
     "data": {
      "image/png": "[encoded data removed]",
      "text/plain": [
       "<Figure size 333.549x206.145 with 1 Axes>"
      ]
     },
     "metadata": {
      "needs_background": "light"
     },
     "output_type": "display_data"
    }
   ],
   "source": [
    "with plt.style.context('../IOP_large.mplstyle'):\n",
    "\n",
    "    fig, ax = plt.subplots()\n",
    "\n",
    "    x = np.array(range(num_samples))\n",
    "    width = 0.25  # the width of the bars\n",
    "\n",
    "    ax.bar(x - width/2,wall_time_uniform, width, label=r\"$\\rm{Rejection}$\")\n",
    "    ax.bar(x + width/2,wall_time_truncated, width, label=r\"$\\rm{Direct}$\")\n",
    "\n",
    "    ax.legend(frameon=True,loc=(0.62,0.04))\n",
    "    \n",
    "    ax.set_ylabel(r\"$\\rm{Wall\\;Time\\;(seconds)}$\")\n",
    "    ax.set_xlabel(r\"$\\rm{seed}$\")\n",
    "    \n",
    "    plt.savefig(\"../figures/wall_times.pdf\",dpi=300)\n",
    "    plt.savefig(\"/Users/ecasiano/Desktop/papers-truncExponSampling/figures/wall_times.pdf\",dpi=300)"
   ]
  },
  {
   "cell_type": "code",
   "execution_count": 15,
   "metadata": {},
   "outputs": [
    {
     "data": {
      "image/png": "[encoded data removed]",
      "text/plain": [
       "<Figure size 583.711x412.289 with 4 Axes>"
      ]
     },
     "metadata": {
      "needs_background": "light"
     },
     "output_type": "display_data"
    }
   ],
   "source": [
    "with plt.style.context('../IOP_large.mplstyle3'):\n",
    "\n",
    "    # Kinetic energies subplot\n",
    "    fig, ax = plt.subplots()\n",
    "\n",
    "    ax[0].set_xscale(\"log\",base=2)\n",
    "    # ax[0].set_yscale(\"log\",base=2)\n",
    "\n",
    "    # plt.yscale(\"log\",basey=2)\n",
    "\n",
    "    ax[0].errorbar(np.range(1,num_samples)tau_kinetic_uniform,tau_kineticErr_uniform, fmt='.', \n",
    "                 capsize=5,label=\"Uniform\",color=colors[0],\n",
    "                 mfc=colors_light[0],zorder=1)\n",
    "    ax[0].errorbar(betas_truncated,tau_kinetic_truncated,tau_kineticErr_truncated, fmt='.', \n",
    "                 capsize=5,label=\"Truncated\",color=colors[1],\n",
    "                 mfc=colors_light[1],zorder=1)\n",
    "    ax[0].tick_params(direction='in')\n",
    "    ax[0].set_ylabel(r\"$\\tau$\")\n",
    "    ax[0].set_xlabel(r\"$\\beta$\")\n",
    "    ax[0].tick_params(direction='in')\n",
    "    ax[0].annotate(r\"$\\rm{Kinetic}$\",(0.10,0.50),xycoords=\"axes fraction\",fontsize=10)\n",
    "    ax[0].annotate(r\"$\\frac{U}{t} = 3.3$\",(0.10,0.40),xycoords=\"axes fraction\")\n",
    "    ax[0].annotate(r\"$L=N=12$\",(0.10,0.30),xycoords=\"axes fraction\")\n",
    "    ax[0].legend(frameon=False,loc=(0.550,0.00))\n",
    "\n",
    "\n",
    "    ax[1].errorbar(betas_uniform,tau_potential_uniform,tau_potentialErr_uniform, fmt='.', \n",
    "                 capsize=5,label=\"uniform\",color=colors[0],\n",
    "                 mfc=colors_light[0],zorder=1)\n",
    "    ax[1].errorbar(betas_truncated,tau_potential_truncated,tau_potentialErr_truncated, fmt='.', \n",
    "                 capsize=5,label=\"truncated\",color=colors[1],\n",
    "                 mfc=colors_light[1],zorder=1)\n",
    "    ax[1].set_xlabel(r\"$\\beta$\")\n",
    "    ax[1].tick_params(direction='in')\n",
    "    ax[1].annotate(r\"$\\rm{Potential}$\",(0.10,0.50),xycoords=\"axes fraction\",fontsize=10)\n",
    "\n",
    "    # Insets kinetic energy\n",
    "    left,bottom,width,height = [0.220,0.687,0.19,0.19*.9]\n",
    "    ax2 = fig.add_axes([left,bottom,width,height])\n",
    "\n",
    "    f = np.abs(tau_kinetic_truncated/tau_potential_uniform)\n",
    "\n",
    "    f = np.abs(tau_kinetic_uniform/tau_potential_truncated)\n",
    "\n",
    "    A = tau_kinetic_uniform\n",
    "    σ_A = tau_kineticErr_uniform\n",
    "\n",
    "    B = tau_kinetic_truncated\n",
    "    σ_B = tau_kineticErr_truncated\n",
    "\n",
    "    σ_f = np.abs(f)*np.sqrt((σ_A/A)**2 + (σ_B/B)**2)\n",
    "\n",
    "    ax2.errorbar(betas_uniform,A/B,σ_f, fmt='.', \n",
    "                 capsize=5,label=\"Uniform\",color=\"mediumpurple\",\n",
    "                 mfc=\"thistle\",zorder=1)\n",
    "\n",
    "    ax2.tick_params(direction='in')\n",
    "    ax2.set_ylabel(r\"$\\tau^{\\rm{Uniform}}/\\tau^{\\rm{Truncated}}$\")\n",
    "    ax2.set_xlabel(r\"$\\beta$\")\n",
    "\n",
    "    # Inset potential energy\n",
    "    left,bottom,width,height = [0.609,0.687,0.19,0.19*.9]\n",
    "    ax3 = fig.add_axes([left,bottom,width,height])\n",
    "\n",
    "    f = np.abs(tau_potential_truncated/tau_potential_uniform)\n",
    "\n",
    "    f = np.abs(tau_potential_uniform/tau_potential_truncated)\n",
    "\n",
    "    A = tau_potential_uniform\n",
    "    σ_A = tau_potentialErr_uniform\n",
    "\n",
    "    B = tau_potential_truncated\n",
    "    σ_B = tau_potentialErr_truncated\n",
    "\n",
    "    σ_f = np.abs(f)*np.sqrt((σ_A/A)**2 + (σ_B/B)**2)\n",
    "\n",
    "    ax3.errorbar(betas_uniform,A/B,σ_f, fmt='.', \n",
    "                 capsize=5,label=\"uniform\",color=\"mediumpurple\",\n",
    "                 mfc=\"thistle\",zorder=1)\n",
    "\n",
    "    ax3.tick_params(direction='in')\n",
    "    ax3.set_ylabel(r\"$\\tau^{\\rm{Uniform}}/\\tau^{\\rm{Truncated}}$\")\n",
    "    ax3.set_xlabel(r\"$\\beta$\")\n",
    "\n",
    "    plt.savefig(\"../figures/pigsfli_tau_vs_beta_critical.pdf\",dpi=300)\n",
    "    plt.savefig(\"/Users/ecasiano/Desktop/papers-truncExponSampling/figures/pigsfli_tau_vs_beta_critical.pdf\",dpi=300)"
   ]
  },
  {
   "cell_type": "code",
   "execution_count": null,
   "metadata": {},
   "outputs": [],
   "source": []
  }
 ],
 "metadata": {
  "kernelspec": {
   "display_name": "Python 3",
   "language": "python",
   "name": "python3"
  },
  "language_info": {
   "codemirror_mode": {
    "name": "ipython",
    "version": 3
   },
   "file_extension": ".py",
   "mimetype": "text/x-python",
   "name": "python",
   "nbconvert_exporter": "python",
   "pygments_lexer": "ipython3",
   "version": "3.8.5"
  }
 },
 "nbformat": 4,
 "nbformat_minor": 4
}
