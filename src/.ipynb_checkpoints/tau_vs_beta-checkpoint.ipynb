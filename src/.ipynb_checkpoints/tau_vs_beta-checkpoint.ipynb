{
 "cells": [
  {
   "cell_type": "code",
   "execution_count": 1,
   "metadata": {},
   "outputs": [],
   "source": [
    "import numpy as np\n",
    "import matplotlib.pyplot as plt"
   ]
  },
  {
   "cell_type": "code",
   "execution_count": 2,
   "metadata": {},
   "outputs": [],
   "source": [
    "colors = ['salmon','dodgerblue','mediumseagreen']\n",
    "colors = ['#FFA0A0','#1e90ff','#3cb371']\n",
    "colors_light = ['#FFEDED','#6BDDFF','#89FFBE']"
   ]
  },
  {
   "cell_type": "code",
   "execution_count": 3,
   "metadata": {},
   "outputs": [
    {
     "name": "stdout",
     "output_type": "stream",
     "text": [
      "#L=12, N=12, l=6, U/t=3.300000, num_replicas=1 \n",
      "# betas    tau_K         tau_K_err          tau_V          tau_V_err \n",
      "2.000000 230.75000000 5.41830874 245.57500000 5.32710929\n",
      "4.000000 366.30000000 8.63312358 383.65000000 8.06553654\n",
      "8.000000 582.60000000 13.20563506 601.88750000 12.14001900\n",
      "16.000000 1008.43750000 21.58268501 1057.28750000 26.30100947\n",
      "32.000000 2123.27500000 90.83962773 2225.35000000 106.73519240\n"
     ]
    }
   ],
   "source": [
    "!head ../processed_data/1D_12_12_6_3.300000_1.000000_betas_1_energies_square_autocorrs_truncated.dat"
   ]
  },
  {
   "cell_type": "code",
   "execution_count": 4,
   "metadata": {},
   "outputs": [],
   "source": [
    "betas_truncated = np.loadtxt(\"../processed_data/1D_12_12_6_3.300000_1.000000_betas_1_energies_square_autocorrs_truncated.dat\")[:,0]\n",
    "tau_kinetic_truncated = np.loadtxt(\"../processed_data/1D_12_12_6_3.300000_1.000000_betas_1_energies_square_autocorrs_truncated.dat\")[:,1]\n",
    "tau_kineticErr_truncated = np.loadtxt(\"../processed_data/1D_12_12_6_3.300000_1.000000_betas_1_energies_square_autocorrs_truncated.dat\")[:,2]\n",
    "\n",
    "betas_uniform = np.loadtxt(\"../processed_data/1D_12_12_6_3.300000_1.000000_betas_1_energies_square_autocorrs_uniform.dat\")[:,0]\n",
    "tau_kinetic_uniform = np.loadtxt(\"../processed_data/1D_12_12_6_3.300000_1.000000_betas_1_energies_square_autocorrs_uniform.dat\")[:,1]\n",
    "tau_kineticErr_uniform = np.loadtxt(\"../processed_data/1D_12_12_6_3.300000_1.000000_betas_1_energies_square_autocorrs_uniform.dat\")[:,2]"
   ]
  },
  {
   "cell_type": "code",
   "execution_count": 5,
   "metadata": {},
   "outputs": [],
   "source": [
    "tau_potential_truncated = np.loadtxt(\"../processed_data/1D_12_12_6_3.300000_1.000000_betas_1_energies_square_autocorrs_truncated.dat\")[:,3]\n",
    "tau_potentialErr_truncated = np.loadtxt(\"../processed_data/1D_12_12_6_3.300000_1.000000_betas_1_energies_square_autocorrs_truncated.dat\")[:,4]\n",
    "\n",
    "tau_potential_uniform = np.loadtxt(\"../processed_data/1D_12_12_6_3.300000_1.000000_betas_1_energies_square_autocorrs_uniform.dat\")[:,3]\n",
    "tau_potentialErr_uniform = np.loadtxt(\"../processed_data/1D_12_12_6_3.300000_1.000000_betas_1_energies_square_autocorrs_uniform.dat\")[:,4]"
   ]
  },
  {
   "cell_type": "code",
   "execution_count": 11,
   "metadata": {},
   "outputs": [
    {
     "data": {
      "image/png": "[encoded data removed]",
      "text/plain": [
       "<Figure size 221.976x221.976 with 4 Axes>"
      ]
     },
     "metadata": {
      "needs_background": "light"
     },
     "output_type": "display_data"
    }
   ],
   "source": [
    "with plt.style.context('../IOP_large.mplstyle'):\n",
    "\n",
    "    # Kinetic energies subplot\n",
    "    fig, ax = plt.subplots(1,2,sharey=True,sharex=True,figsize=[3.083,3.083], constrained_layout=True)\n",
    "    #plt.subplots_adjust(wspace=0.02)\n",
    "\n",
    "    \n",
    "    #plt.title(r\"$\\rm{Projection\\;Length\\;Dependence}$\", x=0.00, pad=-14)\n",
    "    \n",
    "    ax[0].set_xscale(\"log\",base=2)\n",
    "\n",
    "    ax[0].errorbar(betas_uniform,tau_kinetic_uniform,tau_kineticErr_uniform, fmt='.', \n",
    "                 capsize=5,label=\"Rejection\",color=colors[0],\n",
    "                 mfc=colors_light[0],zorder=1)\n",
    "    ax[0].plot(betas_uniform,tau_kinetic_uniform, ls='--', \n",
    "                 lw=1,color=colors[0],zorder=1)\n",
    "    ax[0].errorbar(betas_truncated,tau_kinetic_truncated,tau_kineticErr_truncated, fmt='.', \n",
    "                 capsize=5,label=\"Direct\",color=colors[1],\n",
    "                 mfc=colors_light[1],zorder=1)\n",
    "    ax[0].plot(betas_truncated,tau_kinetic_truncated, ls='--', \n",
    "                 lw=1,color=colors[1],zorder=1)\n",
    "    ax[0].tick_params(direction='in')\n",
    "    ax[0].set_ylabel(r\"$\\rm{Autocorrelation\\;Time}\\;\\; \\mathcal{T}$\")\n",
    "    ax[0].set_xlabel(r\"$\\rm{Projection\\;Length}\\;\\; \\beta$\")\n",
    "    ax[0].tick_params(direction='in')\n",
    "    ax[0].annotate(r\"$\\rm{Kinetic}$\",(0.10,0.50),xycoords=\"axes fraction\")\n",
    "    ax[0].annotate(r\"$\\frac{U}{t} = 3.3$\",(0.10,0.40),xycoords=\"axes fraction\")\n",
    "    ax[0].annotate(r\"$L=N=12$\",(0.10,0.30),xycoords=\"axes fraction\")\n",
    "    #ax[0].legend(frameon=False,loc=(0.550,0.00))\n",
    "\n",
    "\n",
    "    ax[1].errorbar(betas_uniform,tau_potential_uniform,tau_potentialErr_uniform, fmt='.', \n",
    "                 capsize=5,label=\"Rejection\",color=colors[0],\n",
    "                 mfc=colors_light[0],zorder=1)\n",
    "    ax[1].plot(betas_uniform,tau_potential_uniform, ls='--', \n",
    "                 lw=1,color=colors[0],zorder=1)\n",
    "    ax[1].errorbar(betas_truncated,tau_potential_truncated,tau_potentialErr_truncated, fmt='.', \n",
    "                 capsize=5,label=\"Direct\",color=colors[1],\n",
    "                 mfc=colors_light[1],zorder=1)\n",
    "    ax[1].plot(betas_truncated,tau_potential_truncated, ls='--', \n",
    "                 lw=1,color=colors[1],zorder=1)\n",
    "    ax[1].set_xlabel(r\"$\\rm{Projection\\;Length},\\beta$\")\n",
    "    ax[1].tick_params(direction='in')\n",
    "    ax[1].annotate(r\"$\\rm{Potential}$\",(0.10,0.50),xycoords=\"axes fraction\")\n",
    "\n",
    "    # Insets kinetic energy\n",
    "    left,bottom,width,height = [0.220,0.687,0.19,0.19*.9]\n",
    "    ax2 = fig.add_axes([left,bottom,width,height])\n",
    "\n",
    "    A = tau_kinetic_truncated\n",
    "    σ_A = tau_kineticErr_truncated\n",
    "\n",
    "    B = tau_kinetic_uniform\n",
    "    σ_B = tau_kineticErr_uniform\n",
    "\n",
    "    f = np.abs(A/B)\n",
    "    σ_f = np.abs(f)*np.sqrt((σ_A/A)**2 + (σ_B/B)**2)\n",
    "\n",
    "    ax2.errorbar(betas_uniform,A/B,σ_f, fmt='.', \n",
    "                 capsize=5,label=\"Rejection\",color=\"mediumpurple\",\n",
    "                 mfc=\"thistle\",zorder=1)\n",
    "\n",
    "    ax2.tick_params(direction='in')\n",
    "    ax2.set_ylabel(r\"$\\mathcal{T}^{\\rm{D}}/\\mathcal{T}^{\\rm{R}}$\")\n",
    "    ax2.set_xlabel(r\"$\\beta$\")\n",
    "\n",
    "    # Inset potential energy\n",
    "    left,bottom,width,height = [0.609,0.687,0.19,0.19*.9]\n",
    "    ax3 = fig.add_axes([left,bottom,width,height])\n",
    "\n",
    "    A = tau_potential_truncated\n",
    "    σ_A = tau_potentialErr_truncated\n",
    "\n",
    "    B = tau_potential_uniform\n",
    "    σ_B = tau_potentialErr_uniform\n",
    "\n",
    "    f = np.abs(A/B)\n",
    "    σ_f = np.abs(f)*np.sqrt((σ_A/A)**2 + (σ_B/B)**2)\n",
    "\n",
    "    ax3.errorbar(betas_uniform,A/B,σ_f, fmt='.', \n",
    "                 capsize=5,label=\"Rejection\",color=\"mediumpurple\",\n",
    "                 mfc=\"thistle\",zorder=1)\n",
    "\n",
    "    ax3.tick_params(direction='in')\n",
    "    ax3.set_ylabel(r\"$\\mathcal{T}^{\\rm{D}}/\\mathcal{T}^{\\rm{R}}$\")\n",
    "    ax3.set_xlabel(r\"$\\beta$\")\n",
    "    \n",
    "    # plt.title(r\"$\\beta-dependence$\")\n",
    "\n",
    "    plt.savefig(\"../figures/pigsfli_tau_vs_beta_critical.pdf\",dpi=300)"
   ]
  },
  {
   "cell_type": "code",
   "execution_count": 47,
   "metadata": {},
   "outputs": [
    {
     "data": {
      "image/png": "[encoded data removed]",
      "text/plain": [
       "<Figure size 221.976x221.976 with 4 Axes>"
      ]
     },
     "metadata": {
      "needs_background": "light"
     },
     "output_type": "display_data"
    }
   ],
   "source": [
    "with plt.style.context('../IOP_large.mplstyle'):\n",
    "\n",
    "    # Kinetic energies subplot\n",
    "    fig, ax = plt.subplots(2,1,sharey=True,sharex=True,figsize=[3.083,3.083], constrained_layout=True)\n",
    "    #plt.subplots_adjust(wspace=0.02)\n",
    "\n",
    "    \n",
    "    #plt.title(r\"$\\rm{Projection\\;Length\\;Dependence}$\", x=0.00, pad=-14)\n",
    "    \n",
    "    ax[0].set_xscale(\"log\",base=2)\n",
    "\n",
    "    ax[0].errorbar(betas_uniform,tau_kinetic_uniform,tau_kineticErr_uniform, fmt='.',label=\"Rejection\",color=colors[0],\n",
    "                 mfc=colors_light[0],zorder=1)\n",
    "    ax[0].plot(betas_uniform,tau_kinetic_uniform, ls='--', \n",
    "                 lw=1,color=colors[0],zorder=1)\n",
    "    ax[0].errorbar(betas_truncated,tau_kinetic_truncated,tau_kineticErr_truncated, fmt='.', \n",
    "                 capsize=5,label=\"Direct\",color=colors[1],\n",
    "                 mfc=colors_light[1],zorder=1)\n",
    "    ax[0].plot(betas_truncated,tau_kinetic_truncated, ls='--', \n",
    "                 lw=1,color=colors[1],zorder=1)\n",
    "    ax[0].set_ylabel(r\"$\\rm{Autocorrelation\\;Time}\\;\\; \\mathcal{T}$\")\n",
    "    ax[0].annotate(\"Kinetic\",(0.99,0.02),xycoords=\"axes fraction\", ha='right')\n",
    "    ax[0].annotate(r\"${U}/{t} = 3.3$\",(0.99,0.25),xycoords=\"axes fraction\", ha='right')\n",
    "    ax[0].annotate(r\"$L=N=12$\",(0.99,0.15),xycoords=\"axes fraction\",ha='right')\n",
    "    ax[0].legend(frameon=False,loc=(0.550,0.70))\n",
    "\n",
    "\n",
    "    ax[1].errorbar(betas_uniform,tau_potential_uniform,tau_potentialErr_uniform, fmt='o', \n",
    "                 label=\"Rejection\",color=colors[0],\n",
    "                 mfc=colors_light[0],zorder=1)\n",
    "    ax[1].plot(betas_uniform,tau_potential_uniform, ls='--', \n",
    "                 lw=1,color=colors[0],zorder=1)\n",
    "    ax[1].errorbar(betas_truncated,tau_potential_truncated,tau_potentialErr_truncated, fmt='o', \n",
    "                 label=\"Direct\",color=colors[1],\n",
    "                 mfc=colors_light[1],zorder=1)\n",
    "    ax[1].plot(betas_truncated,tau_potential_truncated, ls='--', \n",
    "                 lw=1,color=colors[1],zorder=1)\n",
    "    ax[1].set_xlabel(r\"$\\rm{Projection\\;Length},\\beta$\")\n",
    "    ax[1].set_ylabel(r\"$\\rm{Autocorrelation\\;Time}\\;\\; \\mathcal{T}$\")\n",
    "\n",
    "    ax[1].annotate(r\"$\\rm{Potential}$\",(0.99,0.02),xycoords=\"axes fraction\", ha='right')\n",
    "\n",
    "    # Insets kinetic energy\n",
    "    left,bottom,width,height = [0.29,0.79,0.19*1.618,0.19]\n",
    "    ax2 = fig.add_axes([left,bottom,width,height])\n",
    "\n",
    "    A = tau_kinetic_truncated\n",
    "    σ_A = tau_kineticErr_truncated\n",
    "\n",
    "    B = tau_kinetic_uniform\n",
    "    σ_B = tau_kineticErr_uniform\n",
    "\n",
    "    f = np.abs(A/B)\n",
    "    σ_f = np.abs(f)*np.sqrt((σ_A/A)**2 + (σ_B/B)**2)\n",
    "\n",
    "    ax2.errorbar(betas_uniform,A/B,σ_f, fmt='o', label=\"Rejection\",color=\"mediumpurple\",\n",
    "                 mfc=\"thistle\",zorder=1)\n",
    "\n",
    "    ax2.set_ylabel(r\"$\\mathcal{T}^{\\rm{D}}/\\mathcal{T}^{\\rm{R}}$\")\n",
    "    ax2.set_xlabel(r\"$\\beta$\")\n",
    "\n",
    "    # Inset potential energy\n",
    "    left,bottom,width,height = [0.29,0.33,0.19*1.618,0.19]\n",
    "    ax3 = fig.add_axes([left,bottom,width,height])\n",
    "\n",
    "    A = tau_potential_truncated\n",
    "    σ_A = tau_potentialErr_truncated\n",
    "\n",
    "    B = tau_potential_uniform\n",
    "    σ_B = tau_potentialErr_uniform\n",
    "\n",
    "    f = np.abs(A/B)\n",
    "    σ_f = np.abs(f)*np.sqrt((σ_A/A)**2 + (σ_B/B)**2)\n",
    "\n",
    "    ax3.errorbar(betas_uniform,A/B,σ_f, fmt='.', \n",
    "                 label=\"Rejection\",color=\"mediumpurple\",\n",
    "                 mfc=\"thistle\",zorder=1)\n",
    "\n",
    "    ax3.set_ylabel(r\"$\\mathcal{T}^{\\rm{D}}/\\mathcal{T}^{\\rm{R}}$\")\n",
    "    ax3.set_xlabel(r\"$\\beta$\")\n",
    "    \n",
    "    # plt.title(r\"$\\beta-dependence$\")\n",
    "\n",
    "    plt.savefig(\"../figures/pigsfli_tau_vs_beta_critical.pdf\",dpi=300)"
   ]
  },
  {
   "cell_type": "code",
   "execution_count": null,
   "metadata": {},
   "outputs": [],
   "source": []
  }
 ],
 "metadata": {
  "kernelspec": {
   "display_name": "Python 3 (ipykernel)",
   "language": "python",
   "name": "python3"
  },
  "language_info": {
   "codemirror_mode": {
    "name": "ipython",
    "version": 3
   },
   "file_extension": ".py",
   "mimetype": "text/x-python",
   "name": "python",
   "nbconvert_exporter": "python",
   "pygments_lexer": "ipython3",
   "version": "3.9.6"
  }
 },
 "nbformat": 4,
 "nbformat_minor": 4
}
