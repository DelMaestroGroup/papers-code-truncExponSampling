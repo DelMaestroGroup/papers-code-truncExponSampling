{
 "cells": [
  {
   "cell_type": "code",
   "execution_count": 13,
   "metadata": {},
   "outputs": [],
   "source": [
    "import numpy as np\n",
    "import matplotlib.pyplot as plt"
   ]
  },
  {
   "cell_type": "code",
   "execution_count": 14,
   "metadata": {},
   "outputs": [],
   "source": [
    "colors = ['salmon','dodgerblue','mediumseagreen']\n",
    "colors = ['#FFA0A0','#1e90ff','#3cb371']\n",
    "colors_light = ['#FFEDED','#6BDDFF','#89FFBE']"
   ]
  },
  {
   "cell_type": "code",
   "execution_count": 15,
   "metadata": {},
   "outputs": [
    {
     "name": "stdout",
     "output_type": "stream",
     "text": [
      "# Wall times to collect 1 million samples for a 1D Bose-Hubbard lattice of size L=N=12 at U/t=3.3 & beta=16 in pigsfli\n",
      "# Uniform sampling (seconds)     Truncated Exponential sampling (seconds)\n",
      "5723.7     5747.37\n",
      "5660.19    5760.47\n",
      "5740.56    5848.61\n",
      "5615.88    5832.48\n",
      "5755.12    5671.14\n",
      "5718.25    5867.44 \n",
      "5816.29    5809.58\n",
      "5824.39    5861.17\n"
     ]
    }
   ],
   "source": [
    "!head ../processed_data/wall_times_L12N12_U3.3.dat"
   ]
  },
  {
   "cell_type": "code",
   "execution_count": 16,
   "metadata": {},
   "outputs": [],
   "source": [
    "wall_time_uniform = np.loadtxt(\"../processed_data/wall_times_L12N12_U3.3.dat\")[:,0]\n",
    "wall_time_truncated = np.loadtxt(\"../processed_data/wall_times_L12N12_U3.3.dat\")[:,1]"
   ]
  },
  {
   "cell_type": "code",
   "execution_count": 17,
   "metadata": {},
   "outputs": [],
   "source": [
    "num_samples = wall_time_uniform.shape[0]"
   ]
  },
  {
   "cell_type": "code",
   "execution_count": 18,
   "metadata": {},
   "outputs": [],
   "source": [
    "wall_time_uniform_err = np.std(wall_time_uniform)/np.sqrt(num_samples)\n",
    "wall_time_truncated_err = np.std(wall_time_truncated)/np.sqrt(num_samples)"
   ]
  },
  {
   "cell_type": "code",
   "execution_count": 19,
   "metadata": {},
   "outputs": [],
   "source": [
    "A = wall_time_truncated\n",
    "σ_A = wall_time_truncated_err\n",
    "\n",
    "B = wall_time_uniform\n",
    "σ_B = wall_time_uniform_err\n",
    "\n",
    "f = np.abs(A/B)\n",
    "\n",
    "f_mean = np.mean(f)\n",
    "σ_f = np.std(f)/np.sqrt(num_samples)"
   ]
  },
  {
   "cell_type": "code",
   "execution_count": 20,
   "metadata": {},
   "outputs": [
    {
     "name": "stdout",
     "output_type": "stream",
     "text": [
      "t_uni / t_trunc = 1.02 +/- 0.01\n"
     ]
    }
   ],
   "source": [
    "print(\"t_uni / t_trunc = %.2f +/- %.2f\"%(f_mean,σ_f))"
   ]
  },
  {
   "cell_type": "code",
   "execution_count": 21,
   "metadata": {},
   "outputs": [
    {
     "data": {
      "image/png": "[encoded data removed]",
      "text/plain": [
       "<Figure size 221.976x137.16 with 1 Axes>"
      ]
     },
     "metadata": {
      "needs_background": "light"
     },
     "output_type": "display_data"
    }
   ],
   "source": [
    "with plt.style.context('../IOP_large.mplstyle'):\n",
    "\n",
    "    fig, ax = plt.subplots(constrained_layout=True)\n",
    "\n",
    "    x = np.array(range(num_samples))\n",
    "    width = 1.0 # the width of the bars\n",
    "\n",
    "    ax.bar(x,wall_time_uniform/wall_time_truncated, width, edgecolor='w')\n",
    "    # ax.bar(x + width/2,wall_time_truncated, width, label=r\"$\\rm{Direct}$\")\n",
    "\n",
    "    # ax.legend(frameon=True,loc=(0.62,0.04))\n",
    "    \n",
    "    ax.set_ylabel(r\"$t^{D}/t^{R}$\")\n",
    "    ax.set_xlabel(r\"$\\rm{seed}$\")\n",
    "    ax.set_xlim(-0.5,9.5)\n",
    "    \n",
    "    plt.savefig(\"../figures/wall_times.pdf\",dpi=300)"
   ]
  },
  {
   "cell_type": "code",
   "execution_count": null,
   "metadata": {},
   "outputs": [],
   "source": []
  },
  {
   "cell_type": "code",
   "execution_count": null,
   "metadata": {},
   "outputs": [],
   "source": []
  },
  {
   "cell_type": "code",
   "execution_count": null,
   "metadata": {},
   "outputs": [],
   "source": []
  }
 ],
 "metadata": {
  "kernelspec": {
   "display_name": "Python 3",
   "language": "python",
   "name": "python3"
  },
  "language_info": {
   "codemirror_mode": {
    "name": "ipython",
    "version": 3
   },
   "file_extension": ".py",
   "mimetype": "text/x-python",
   "name": "python",
   "nbconvert_exporter": "python",
   "pygments_lexer": "ipython3",
   "version": "3.8.5"
  }
 },
 "nbformat": 4,
 "nbformat_minor": 4
}
